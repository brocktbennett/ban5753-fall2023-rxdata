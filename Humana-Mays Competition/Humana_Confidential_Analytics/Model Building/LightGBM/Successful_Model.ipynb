{
 "cells": [
  {
   "cell_type": "code",
   "execution_count": 2,
   "metadata": {},
   "outputs": [],
   "source": [
    "# Import necessary Libraries\n",
    "import pandas as pd\n",
    "from lightgbm import LGBMClassifier\n"
   ]
  },
  {
   "cell_type": "code",
   "execution_count": 5,
   "metadata": {},
   "outputs": [],
   "source": [
    "\n",
    "train = pd.read_csv(\"/Users/nathanzlomke/Documents/GitHub/ban5753-fall2023-rxdata/Humana-Mays Competition/Humana_Confidential_Analytics/model_data10-2.csv\")  #took off encoding=\"ISO-8859-1\" as it was causing glitching\n",
    "train = train.drop(columns={'Date Duration'}, axis=1)\n",
    "train.shape\n",
    "train.columns\n",
    "\n",
    "test = pd.read_csv(\"/Users/nathanzlomke/Documents/GitHub/ban5753-fall2023-rxdata/Humana-Mays Competition/Humana_Confidential_Analytics/CORRECTED_CLEAN_HOLDOUT_10-3.csv\")\n",
    "#None of the below 3 features in holdout file, so need to add as columns = 0 for model to work\n",
    "test['race_North American Native']= 0\n",
    "test['util_cat__IP_LTACH'] = 0\n",
    "test['util_cat__IP_MHSA'] = 0\n",
    "test.shape\n",
    "test_new = test\n",
    "test_new['tgt_ade_dc_ind']= 0\n"
   ]
  },
  {
   "cell_type": "code",
   "execution_count": 6,
   "metadata": {},
   "outputs": [],
   "source": [
    "\n",
    "\n",
    "# Define X and y for training and testing\n",
    "x_train = train.drop(columns=['tgt_ade_dc_ind'], axis=1)\n",
    "y_train = train['tgt_ade_dc_ind']\n",
    "x_test = test_new.drop(columns=['tgt_ade_dc_ind'], axis=1)\n",
    "y_test = test_new['tgt_ade_dc_ind']\n"
   ]
  },
  {
   "cell_type": "code",
   "execution_count": 7,
   "metadata": {},
   "outputs": [
    {
     "name": "stderr",
     "output_type": "stream",
     "text": [
      "/Library/Frameworks/Python.framework/Versions/3.11/lib/python3.11/site-packages/sklearn/model_selection/_search.py:307: UserWarning: The total space of parameters 1 is smaller than n_iter=10. Running 1 iterations. For exhaustive searches, use GridSearchCV.\n",
      "  warnings.warn(\n"
     ]
    },
    {
     "name": "stdout",
     "output_type": "stream",
     "text": [
      "[LightGBM] [Warning] Found whitespace in feature_names, replace with underlines\n",
      "[LightGBM] [Info] Number of positive: 511820, number of negative: 2073937\n",
      "[LightGBM] [Info] Auto-choosing row-wise multi-threading, the overhead of testing was 0.218246 seconds.\n",
      "You can set `force_row_wise=true` to remove the overhead.\n",
      "And if memory is not enough, you can set `force_col_wise=true`.\n",
      "[LightGBM] [Info] Total Bins 2054\n",
      "[LightGBM] [Info] Number of data points in the train set: 2585757, number of used features: 80\n",
      "[LightGBM] [Info] [binary:BoostFromScore]: pavg=0.197938 -> initscore=-1.399231\n",
      "[LightGBM] [Info] Start training from score -1.399231\n",
      "[LightGBM] [Warning] Found whitespace in feature_names, replace with underlines\n",
      "[LightGBM] [Info] Number of positive: 511820, number of negative: 2073937\n",
      "[LightGBM] [Info] Auto-choosing row-wise multi-threading, the overhead of testing was 0.209315 seconds.\n",
      "You can set `force_row_wise=true` to remove the overhead.\n",
      "And if memory is not enough, you can set `force_col_wise=true`.\n",
      "[LightGBM] [Info] Total Bins 2061\n",
      "[LightGBM] [Info] Number of data points in the train set: 2585757, number of used features: 80\n",
      "[LightGBM] [Info] [binary:BoostFromScore]: pavg=0.197938 -> initscore=-1.399231\n",
      "[LightGBM] [Info] Start training from score -1.399231\n",
      "[LightGBM] [Warning] Found whitespace in feature_names, replace with underlines\n",
      "[LightGBM] [Info] Number of positive: 511820, number of negative: 2073938\n",
      "[LightGBM] [Info] Auto-choosing row-wise multi-threading, the overhead of testing was 0.229642 seconds.\n",
      "You can set `force_row_wise=true` to remove the overhead.\n",
      "And if memory is not enough, you can set `force_col_wise=true`.\n",
      "[LightGBM] [Info] Total Bins 2013\n",
      "[LightGBM] [Info] Number of data points in the train set: 2585758, number of used features: 77\n",
      "[LightGBM] [Info] [binary:BoostFromScore]: pavg=0.197938 -> initscore=-1.399231\n",
      "[LightGBM] [Info] Start training from score -1.399231\n",
      "[LightGBM] [Warning] Found whitespace in feature_names, replace with underlines\n",
      "[LightGBM] [Info] Number of positive: 767730, number of negative: 3110906\n",
      "[LightGBM] [Info] Auto-choosing row-wise multi-threading, the overhead of testing was 0.334833 seconds.\n",
      "You can set `force_row_wise=true` to remove the overhead.\n",
      "And if memory is not enough, you can set `force_col_wise=true`.\n",
      "[LightGBM] [Info] Total Bins 2103\n",
      "[LightGBM] [Info] Number of data points in the train set: 3878636, number of used features: 80\n",
      "[LightGBM] [Info] [binary:BoostFromScore]: pavg=0.197938 -> initscore=-1.399231\n",
      "[LightGBM] [Info] Start training from score -1.399231\n"
     ]
    },
    {
     "data": {
      "text/plain": [
       "0.44150865269752226"
      ]
     },
     "execution_count": 7,
     "metadata": {},
     "output_type": "execute_result"
    }
   ],
   "source": [
    "#This section uses an algorithm RandomSearchCV to optimize the model parameters for the model to use in the next section\n",
    "\n",
    "\n",
    "#https://www.youtube.com/shorts/AOLfcy9FUjs\n",
    "from sklearn.model_selection import GridSearchCV\n",
    "seed=0\n",
    "lgbm_params = {\n",
    "    \"n_estimators\":[700],\n",
    "    \"learning_rate\":[0.1],\n",
    "    \"num_leaves\": [12]\n",
    "}\n",
    "\n",
    "lgmc = LGBMClassifier(seed=seed)\n",
    "#gridsearch is too slow, online recommended using randmomized search\n",
    "'''grid_search = GridSearchCV(\n",
    "    estimator=lgmc,\n",
    "    param_grid = lgbm_params,\n",
    "    n_jobs=-1, cv=3,\n",
    "    scoring='roc_auc',\n",
    "    error_score = 0)\n",
    "grid_result = grid_search.fit(x_train, y_train)\n",
    "\n",
    "final_model = lgmc.set_params(**grid_result.best_params_)\n",
    "final_model.fit(x_train, y_train)\n",
    "y_pred = final_model.predict(x_test)\n",
    "\n",
    "lgmc.score(x_test,y_test)\n",
    "'''\n",
    "\n",
    "from sklearn.model_selection import RandomizedSearchCV\n",
    "rand = RandomizedSearchCV(LGBMClassifier(seed=seed), lgbm_params, n_iter=10, cv=3, scoring='roc_auc', random_state=1)\n",
    "rand.fit(x_train,y_train)\n",
    "rand.best_score_"
   ]
  },
  {
   "cell_type": "code",
   "execution_count": 8,
   "metadata": {},
   "outputs": [
    {
     "data": {
      "text/plain": [
       "{'num_leaves': 12, 'n_estimators': 700, 'learning_rate': 0.1}"
      ]
     },
     "execution_count": 8,
     "metadata": {},
     "output_type": "execute_result"
    }
   ],
   "source": [
    "rand.best_params_\n",
    "#{'num_leaves': 12, 'n_estimators': 500, 'learning_rate': 0.1}\n",
    "#***BEST is {'num_leaves': 12, 'n_estimators': 700, 'learning_rate': 0.1}"
   ]
  },
  {
   "cell_type": "code",
   "execution_count": 9,
   "metadata": {},
   "outputs": [
    {
     "name": "stdout",
     "output_type": "stream",
     "text": [
      "[LightGBM] [Warning] Found whitespace in feature_names, replace with underlines\n",
      "[LightGBM] [Info] Number of positive: 767730, number of negative: 3110906\n",
      "[LightGBM] [Info] Auto-choosing row-wise multi-threading, the overhead of testing was 0.327447 seconds.\n",
      "You can set `force_row_wise=true` to remove the overhead.\n",
      "And if memory is not enough, you can set `force_col_wise=true`.\n",
      "[LightGBM] [Info] Total Bins 2103\n",
      "[LightGBM] [Info] Number of data points in the train set: 3878636, number of used features: 80\n",
      "[LightGBM] [Info] [binary:BoostFromScore]: pavg=0.197938 -> initscore=-1.399231\n",
      "[LightGBM] [Info] Start training from score -1.399231\n",
      "[1 1 1 ... 1 1 1]\n",
      "Accuracy: 0.9009427369134205\n",
      "0         0\n",
      "1         0\n",
      "2         0\n",
      "3         0\n",
      "4         0\n",
      "         ..\n",
      "608118    0\n",
      "608119    0\n",
      "608120    0\n",
      "608121    0\n",
      "608122    0\n",
      "Name: tgt_ade_dc_ind, Length: 608123, dtype: int64\n"
     ]
    }
   ],
   "source": [
    "\n",
    "# Create and train the LightGBM model\n",
    "rand = LGBMClassifier(seed=seed)\n",
    "rand.fit(x_train, y_train)\n",
    "\n",
    "# Predict the target variable\n",
    "pred = rand.predict(x_test)\n",
    "print(pred)\n",
    "\n",
    "# Evaluate model performance (consider using additional metrics)\n",
    "accuracy = rand.score(x_test, y_test)\n",
    "print(\"Accuracy:\", accuracy)\n",
    "print(y_test)"
   ]
  },
  {
   "cell_type": "code",
   "execution_count": 10,
   "metadata": {},
   "outputs": [],
   "source": [
    "#Printing the scored results and joining to test dataframe\n",
    "\n",
    "\n",
    "#test_scored.head()\n",
    "pred = pd.DataFrame(pred)\n",
    "pred = pred.rename(columns={0:'tgt_ade_dc_ind'})\n",
    "test_scored = x_test.join(pred)\n",
    "#test_scored = test_new.join(y_test, how = 'left', lsuffix='left', rsuffix='right')\n"
   ]
  },
  {
   "cell_type": "code",
   "execution_count": 11,
   "metadata": {},
   "outputs": [
    {
     "data": {
      "text/plain": [
       "(608123, 1)"
      ]
     },
     "execution_count": 11,
     "metadata": {},
     "output_type": "execute_result"
    }
   ],
   "source": [
    "pred.shape"
   ]
  },
  {
   "cell_type": "code",
   "execution_count": 12,
   "metadata": {},
   "outputs": [
    {
     "data": {
      "text/html": [
       "<div>\n",
       "<style scoped>\n",
       "    .dataframe tbody tr th:only-of-type {\n",
       "        vertical-align: middle;\n",
       "    }\n",
       "\n",
       "    .dataframe tbody tr th {\n",
       "        vertical-align: top;\n",
       "    }\n",
       "\n",
       "    .dataframe thead th {\n",
       "        text-align: right;\n",
       "    }\n",
       "</style>\n",
       "<table border=\"1\" class=\"dataframe\">\n",
       "  <thead>\n",
       "    <tr style=\"text-align: right;\">\n",
       "      <th></th>\n",
       "      <th>tgt_ade_dc_ind</th>\n",
       "    </tr>\n",
       "    <tr>\n",
       "      <th>cleaned_id</th>\n",
       "      <th></th>\n",
       "    </tr>\n",
       "  </thead>\n",
       "  <tbody>\n",
       "    <tr>\n",
       "      <th>1000261259</th>\n",
       "      <td>0.096987</td>\n",
       "    </tr>\n",
       "    <tr>\n",
       "      <th>1001691228</th>\n",
       "      <td>0.000000</td>\n",
       "    </tr>\n",
       "    <tr>\n",
       "      <th>1002060555</th>\n",
       "      <td>0.487302</td>\n",
       "    </tr>\n",
       "    <tr>\n",
       "      <th>1003935675</th>\n",
       "      <td>0.000000</td>\n",
       "    </tr>\n",
       "    <tr>\n",
       "      <th>1004837018</th>\n",
       "      <td>0.111718</td>\n",
       "    </tr>\n",
       "  </tbody>\n",
       "</table>\n",
       "</div>"
      ],
      "text/plain": [
       "            tgt_ade_dc_ind\n",
       "cleaned_id                \n",
       "1000261259        0.096987\n",
       "1001691228        0.000000\n",
       "1002060555        0.487302\n",
       "1003935675        0.000000\n",
       "1004837018        0.111718"
      ]
     },
     "execution_count": 12,
     "metadata": {},
     "output_type": "execute_result"
    }
   ],
   "source": [
    "short_test_scored = test_scored[['cleaned_id','tgt_ade_dc_ind']]\n",
    "short_test_scored.head()\n",
    "\n",
    "grouped = short_test_scored.groupby('cleaned_id')\n",
    "average_id = grouped.mean()\n",
    "average_id.shape\n",
    "average_id.head()\n"
   ]
  },
  {
   "cell_type": "code",
   "execution_count": 15,
   "metadata": {},
   "outputs": [
    {
     "data": {
      "text/plain": [
       "420"
      ]
     },
     "execution_count": 15,
     "metadata": {},
     "output_type": "execute_result"
    }
   ],
   "source": [
    "short_test_scored['cleaned_id'].nunique()\n",
    "x_test['cleaned_id'].nunique()"
   ]
  },
  {
   "cell_type": "code",
   "execution_count": 16,
   "metadata": {},
   "outputs": [],
   "source": [
    "#Export to CSV\n",
    "average_id.to_csv(\"scoring_10_3.csv\")\n"
   ]
  }
 ],
 "metadata": {
  "kernelspec": {
   "display_name": "Python 3",
   "language": "python",
   "name": "python3"
  },
  "language_info": {
   "codemirror_mode": {
    "name": "ipython",
    "version": 3
   },
   "file_extension": ".py",
   "mimetype": "text/x-python",
   "name": "python",
   "nbconvert_exporter": "python",
   "pygments_lexer": "ipython3",
   "version": "3.11.5"
  },
  "orig_nbformat": 4
 },
 "nbformat": 4,
 "nbformat_minor": 2
}
