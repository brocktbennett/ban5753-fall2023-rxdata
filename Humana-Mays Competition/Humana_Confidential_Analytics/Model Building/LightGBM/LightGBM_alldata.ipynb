{
 "cells": [
  {
   "cell_type": "code",
   "execution_count": 5,
   "metadata": {
    "ExecuteTime": {
     "end_time": "2023-09-30T14:33:03.695320Z",
     "start_time": "2023-09-30T14:33:03.491221Z"
    }
   },
   "outputs": [],
   "source": [
    "# Importing Required Library\n",
    "import pandas as pd\n",
    "import lightgbm as lgb\n",
    "import lightgbm\n",
    "# Similarly LGBMRegressor can also be imported for a regression model.\n",
    "from lightgbm import LGBMClassifier"
   ]
  },
  {
   "cell_type": "code",
   "execution_count": 6,
   "metadata": {
    "ExecuteTime": {
     "end_time": "2023-09-30T14:33:40.674787Z",
     "start_time": "2023-09-30T14:33:05.629305Z"
    }
   },
   "outputs": [
    {
     "name": "stderr",
     "output_type": "stream",
     "text": [
      "/var/folders/_d/gcvc5_md1bg3809rkn2_lqk40000gn/T/ipykernel_1349/3525296596.py:2: DtypeWarning: Columns (11,12,13,14,17,87,89,90,91) have mixed types. Specify dtype option on import or set low_memory=False.\n",
      "  data = pd.read_csv(\"/Users/brocktbennett/GitHub/Project Data/2023_TAMU_competition_data/Merged/New/cleaned_humana_inner9-29.csv\")\n"
     ]
    }
   ],
   "source": [
    "# Reading the train and test dataset\n",
    "data = pd.read_csv(\"/Users/brocktbennett/GitHub/Project Data/2023_TAMU_competition_data/Merged/New/cleaned_humana_inner9-29.csv\")"
   ]
  },
  {
   "cell_type": "code",
   "execution_count": 7,
   "metadata": {
    "ExecuteTime": {
     "end_time": "2023-09-30T14:33:45.469482Z",
     "start_time": "2023-09-30T14:33:45.393221Z"
    }
   },
   "outputs": [
    {
     "data": {
      "text/plain": "   Unnamed: 0             therapy_id   medclm_key  clm_unique_key  \\\n0           0  1066310426-TAGRISSO-1  35908472910    6.490000e+17   \n1           1  1066310426-TAGRISSO-1  35908472910    6.490000e+17   \n2           2  1066310426-TAGRISSO-1  35908472910    6.490000e+17   \n3           3  1066310426-TAGRISSO-1  35908472910    6.490000e+17   \n4           4  1066310426-TAGRISSO-1  35908472910    6.490000e+17   \n\n  primary_diag_cd visit_date  Visit_Duration diag_cd2 diag_cd3 diag_cd4  ...  \\\n0          I70292    9/10/19          -128.0     I771     I739    R9431  ...   \n1          I70292    9/10/19          -128.0     I771     I739    R9431  ...   \n2          I70292    9/10/19          -128.0     I771     I739    R9431  ...   \n3          I70292    9/10/19          -128.0     I771     I739    R9431  ...   \n4          I70292    9/10/19          -128.0     I771     I739    R9431  ...   \n\n           id therapy_start_date therapy_end_date Date Duration  \\\n0  1066310426            1/16/20          2/15/20            30   \n1  1066310426            1/16/20          2/15/20            30   \n2  1066310426            1/16/20          2/15/20            30   \n3  1066310426            1/16/20          2/15/20            30   \n4  1066310426            1/16/20          2/15/20            30   \n\n  tgt_ade_dc_ind race_cd  est_age sex_cd cms_disabled_ind cms_low_income_ind  \n0              0   White     74.0      M               No                 No  \n1              0   White     74.0      M               No                 No  \n2              0   White     74.0      M               No                 No  \n3              0   White     74.0      M               No                 No  \n4              0   White     74.0      M               No                 No  \n\n[5 rows x 92 columns]",
      "text/html": "<div>\n<style scoped>\n    .dataframe tbody tr th:only-of-type {\n        vertical-align: middle;\n    }\n\n    .dataframe tbody tr th {\n        vertical-align: top;\n    }\n\n    .dataframe thead th {\n        text-align: right;\n    }\n</style>\n<table border=\"1\" class=\"dataframe\">\n  <thead>\n    <tr style=\"text-align: right;\">\n      <th></th>\n      <th>Unnamed: 0</th>\n      <th>therapy_id</th>\n      <th>medclm_key</th>\n      <th>clm_unique_key</th>\n      <th>primary_diag_cd</th>\n      <th>visit_date</th>\n      <th>Visit_Duration</th>\n      <th>diag_cd2</th>\n      <th>diag_cd3</th>\n      <th>diag_cd4</th>\n      <th>...</th>\n      <th>id</th>\n      <th>therapy_start_date</th>\n      <th>therapy_end_date</th>\n      <th>Date Duration</th>\n      <th>tgt_ade_dc_ind</th>\n      <th>race_cd</th>\n      <th>est_age</th>\n      <th>sex_cd</th>\n      <th>cms_disabled_ind</th>\n      <th>cms_low_income_ind</th>\n    </tr>\n  </thead>\n  <tbody>\n    <tr>\n      <th>0</th>\n      <td>0</td>\n      <td>1066310426-TAGRISSO-1</td>\n      <td>35908472910</td>\n      <td>6.490000e+17</td>\n      <td>I70292</td>\n      <td>9/10/19</td>\n      <td>-128.0</td>\n      <td>I771</td>\n      <td>I739</td>\n      <td>R9431</td>\n      <td>...</td>\n      <td>1066310426</td>\n      <td>1/16/20</td>\n      <td>2/15/20</td>\n      <td>30</td>\n      <td>0</td>\n      <td>White</td>\n      <td>74.0</td>\n      <td>M</td>\n      <td>No</td>\n      <td>No</td>\n    </tr>\n    <tr>\n      <th>1</th>\n      <td>1</td>\n      <td>1066310426-TAGRISSO-1</td>\n      <td>35908472910</td>\n      <td>6.490000e+17</td>\n      <td>I70292</td>\n      <td>9/10/19</td>\n      <td>-128.0</td>\n      <td>I771</td>\n      <td>I739</td>\n      <td>R9431</td>\n      <td>...</td>\n      <td>1066310426</td>\n      <td>1/16/20</td>\n      <td>2/15/20</td>\n      <td>30</td>\n      <td>0</td>\n      <td>White</td>\n      <td>74.0</td>\n      <td>M</td>\n      <td>No</td>\n      <td>No</td>\n    </tr>\n    <tr>\n      <th>2</th>\n      <td>2</td>\n      <td>1066310426-TAGRISSO-1</td>\n      <td>35908472910</td>\n      <td>6.490000e+17</td>\n      <td>I70292</td>\n      <td>9/10/19</td>\n      <td>-128.0</td>\n      <td>I771</td>\n      <td>I739</td>\n      <td>R9431</td>\n      <td>...</td>\n      <td>1066310426</td>\n      <td>1/16/20</td>\n      <td>2/15/20</td>\n      <td>30</td>\n      <td>0</td>\n      <td>White</td>\n      <td>74.0</td>\n      <td>M</td>\n      <td>No</td>\n      <td>No</td>\n    </tr>\n    <tr>\n      <th>3</th>\n      <td>3</td>\n      <td>1066310426-TAGRISSO-1</td>\n      <td>35908472910</td>\n      <td>6.490000e+17</td>\n      <td>I70292</td>\n      <td>9/10/19</td>\n      <td>-128.0</td>\n      <td>I771</td>\n      <td>I739</td>\n      <td>R9431</td>\n      <td>...</td>\n      <td>1066310426</td>\n      <td>1/16/20</td>\n      <td>2/15/20</td>\n      <td>30</td>\n      <td>0</td>\n      <td>White</td>\n      <td>74.0</td>\n      <td>M</td>\n      <td>No</td>\n      <td>No</td>\n    </tr>\n    <tr>\n      <th>4</th>\n      <td>4</td>\n      <td>1066310426-TAGRISSO-1</td>\n      <td>35908472910</td>\n      <td>6.490000e+17</td>\n      <td>I70292</td>\n      <td>9/10/19</td>\n      <td>-128.0</td>\n      <td>I771</td>\n      <td>I739</td>\n      <td>R9431</td>\n      <td>...</td>\n      <td>1066310426</td>\n      <td>1/16/20</td>\n      <td>2/15/20</td>\n      <td>30</td>\n      <td>0</td>\n      <td>White</td>\n      <td>74.0</td>\n      <td>M</td>\n      <td>No</td>\n      <td>No</td>\n    </tr>\n  </tbody>\n</table>\n<p>5 rows × 92 columns</p>\n</div>"
     },
     "execution_count": 7,
     "metadata": {},
     "output_type": "execute_result"
    }
   ],
   "source": [
    "data.head()"
   ]
  },
  {
   "cell_type": "code",
   "execution_count": 8,
   "metadata": {
    "ExecuteTime": {
     "end_time": "2023-09-30T14:34:03.647366Z",
     "start_time": "2023-09-30T14:34:01.891453Z"
    }
   },
   "outputs": [
    {
     "data": {
      "text/plain": "              therapy_id   medclm_key  clm_unique_key primary_diag_cd  \\\n0  1066310426-TAGRISSO-1  35908472910    6.490000e+17          I70292   \n1  1066310426-TAGRISSO-1  35908472910    6.490000e+17          I70292   \n2  1066310426-TAGRISSO-1  35908472910    6.490000e+17          I70292   \n3  1066310426-TAGRISSO-1  35908472910    6.490000e+17          I70292   \n4  1066310426-TAGRISSO-1  35908472910    6.490000e+17          I70292   \n\n  visit_date  Visit_Duration diag_cd2 diag_cd3 diag_cd4 diag_cd5  ...  \\\n0    9/10/19          -128.0     I771     I739    R9431    Z7982  ...   \n1    9/10/19          -128.0     I771     I739    R9431    Z7982  ...   \n2    9/10/19          -128.0     I771     I739    R9431    Z7982  ...   \n3    9/10/19          -128.0     I771     I739    R9431    Z7982  ...   \n4    9/10/19          -128.0     I771     I739    R9431    Z7982  ...   \n\n           id therapy_start_date therapy_end_date Date Duration  \\\n0  1066310426            1/16/20          2/15/20            30   \n1  1066310426            1/16/20          2/15/20            30   \n2  1066310426            1/16/20          2/15/20            30   \n3  1066310426            1/16/20          2/15/20            30   \n4  1066310426            1/16/20          2/15/20            30   \n\n  tgt_ade_dc_ind  race_cd est_age sex_cd cms_disabled_ind cms_low_income_ind  \n0              0    White    74.0      M               No                 No  \n1              0    White    74.0      M               No                 No  \n2              0    White    74.0      M               No                 No  \n3              0    White    74.0      M               No                 No  \n4              0    White    74.0      M               No                 No  \n\n[5 rows x 91 columns]",
      "text/html": "<div>\n<style scoped>\n    .dataframe tbody tr th:only-of-type {\n        vertical-align: middle;\n    }\n\n    .dataframe tbody tr th {\n        vertical-align: top;\n    }\n\n    .dataframe thead th {\n        text-align: right;\n    }\n</style>\n<table border=\"1\" class=\"dataframe\">\n  <thead>\n    <tr style=\"text-align: right;\">\n      <th></th>\n      <th>therapy_id</th>\n      <th>medclm_key</th>\n      <th>clm_unique_key</th>\n      <th>primary_diag_cd</th>\n      <th>visit_date</th>\n      <th>Visit_Duration</th>\n      <th>diag_cd2</th>\n      <th>diag_cd3</th>\n      <th>diag_cd4</th>\n      <th>diag_cd5</th>\n      <th>...</th>\n      <th>id</th>\n      <th>therapy_start_date</th>\n      <th>therapy_end_date</th>\n      <th>Date Duration</th>\n      <th>tgt_ade_dc_ind</th>\n      <th>race_cd</th>\n      <th>est_age</th>\n      <th>sex_cd</th>\n      <th>cms_disabled_ind</th>\n      <th>cms_low_income_ind</th>\n    </tr>\n  </thead>\n  <tbody>\n    <tr>\n      <th>0</th>\n      <td>1066310426-TAGRISSO-1</td>\n      <td>35908472910</td>\n      <td>6.490000e+17</td>\n      <td>I70292</td>\n      <td>9/10/19</td>\n      <td>-128.0</td>\n      <td>I771</td>\n      <td>I739</td>\n      <td>R9431</td>\n      <td>Z7982</td>\n      <td>...</td>\n      <td>1066310426</td>\n      <td>1/16/20</td>\n      <td>2/15/20</td>\n      <td>30</td>\n      <td>0</td>\n      <td>White</td>\n      <td>74.0</td>\n      <td>M</td>\n      <td>No</td>\n      <td>No</td>\n    </tr>\n    <tr>\n      <th>1</th>\n      <td>1066310426-TAGRISSO-1</td>\n      <td>35908472910</td>\n      <td>6.490000e+17</td>\n      <td>I70292</td>\n      <td>9/10/19</td>\n      <td>-128.0</td>\n      <td>I771</td>\n      <td>I739</td>\n      <td>R9431</td>\n      <td>Z7982</td>\n      <td>...</td>\n      <td>1066310426</td>\n      <td>1/16/20</td>\n      <td>2/15/20</td>\n      <td>30</td>\n      <td>0</td>\n      <td>White</td>\n      <td>74.0</td>\n      <td>M</td>\n      <td>No</td>\n      <td>No</td>\n    </tr>\n    <tr>\n      <th>2</th>\n      <td>1066310426-TAGRISSO-1</td>\n      <td>35908472910</td>\n      <td>6.490000e+17</td>\n      <td>I70292</td>\n      <td>9/10/19</td>\n      <td>-128.0</td>\n      <td>I771</td>\n      <td>I739</td>\n      <td>R9431</td>\n      <td>Z7982</td>\n      <td>...</td>\n      <td>1066310426</td>\n      <td>1/16/20</td>\n      <td>2/15/20</td>\n      <td>30</td>\n      <td>0</td>\n      <td>White</td>\n      <td>74.0</td>\n      <td>M</td>\n      <td>No</td>\n      <td>No</td>\n    </tr>\n    <tr>\n      <th>3</th>\n      <td>1066310426-TAGRISSO-1</td>\n      <td>35908472910</td>\n      <td>6.490000e+17</td>\n      <td>I70292</td>\n      <td>9/10/19</td>\n      <td>-128.0</td>\n      <td>I771</td>\n      <td>I739</td>\n      <td>R9431</td>\n      <td>Z7982</td>\n      <td>...</td>\n      <td>1066310426</td>\n      <td>1/16/20</td>\n      <td>2/15/20</td>\n      <td>30</td>\n      <td>0</td>\n      <td>White</td>\n      <td>74.0</td>\n      <td>M</td>\n      <td>No</td>\n      <td>No</td>\n    </tr>\n    <tr>\n      <th>4</th>\n      <td>1066310426-TAGRISSO-1</td>\n      <td>35908472910</td>\n      <td>6.490000e+17</td>\n      <td>I70292</td>\n      <td>9/10/19</td>\n      <td>-128.0</td>\n      <td>I771</td>\n      <td>I739</td>\n      <td>R9431</td>\n      <td>Z7982</td>\n      <td>...</td>\n      <td>1066310426</td>\n      <td>1/16/20</td>\n      <td>2/15/20</td>\n      <td>30</td>\n      <td>0</td>\n      <td>White</td>\n      <td>74.0</td>\n      <td>M</td>\n      <td>No</td>\n      <td>No</td>\n    </tr>\n  </tbody>\n</table>\n<p>5 rows × 91 columns</p>\n</div>"
     },
     "execution_count": 8,
     "metadata": {},
     "output_type": "execute_result"
    }
   ],
   "source": [
    "# Removing Columns not Required\n",
    "data = data.drop(columns = ['Unnamed: 0'], axis = 1)\n",
    "data.head()"
   ]
  },
  {
   "cell_type": "code",
   "execution_count": 9,
   "metadata": {
    "ExecuteTime": {
     "end_time": "2023-09-30T14:34:42.475964Z",
     "start_time": "2023-09-30T14:34:41.113287Z"
    }
   },
   "outputs": [],
   "source": [
    "#consolidating dataframe into necessary columns...\n",
    "#pd.set_option('display.max_columns', None)\n",
    "data.head()\n",
    "model_data = data[['therapy_id', 'Visit_Duration', 'MedProcess_Duration', 'pot', 'util_cat', 'hedis_pot', 'clm_type_x', \n",
    "                   'ade_diagnosis', 'seizure_diagnosis', 'pain_diagnosis', 'fatigue_diagnosis', 'nausea_diagnosis', \n",
    "                   'hyperglycemia_diagnosis', 'constipation_diagnosis', 'diarrhea_diagnosis','PD_C00ÐD49_FLG', 'PD_D50ÐD89_FLG',\t\n",
    "                   'PD_E00ÐE90_FLG',\t'PD_G00ÐG99_FLG',\t'PD_I00ÐI99_FLG',\t'PD_J00ÐJ99_FLG',\t'PD_M00ÐM99_FLG',\t'PD_R00ÐR99_FLG',\t\n",
    "                   'PD_Z00ÐZ99_FLG',\t'PD_Other_FLG',\t'NPD_C00ÐD49',\t'NPD_D50ÐD89', 'NPD_E00ÐE90',\t'NPD_G00ÐG99',\t'NPD_I00ÐI99',\t\n",
    "                   'NPD_J00ÐJ99',\t'NPD_K00ÐK93',\t'NPD_M00ÐM99',\t'NPD_R00ÐR99',\t'NPD_Z00ÐZ99',\t'NPD_Other',\t'NPD_SUM', \n",
    "                   'Prescription_Filled_Duration', 'RX_Process_Duration', 'pay_day_supply_cnt', 'rx_cost', 'tot_drug_cost_accum_amt', \n",
    "                   'mail_order_iNod', 'generic_ind', 'maint_ind', 'metric_strength', 'clm_type_y', 'ddi_ind', 'anticoag_ind',\t\n",
    "                   'diarrhea_treat_ind',\t'nausea_treat_ind',\t'seizure_treat_ind',\t'RxGroupings', 'Date Duration', 'tgt_ade_dc_ind', \n",
    "                   'race_cd', 'est_age', 'sex_cd', 'cms_disabled_ind', 'cms_low_income_ind']] "
   ]
  },
  {
   "cell_type": "code",
   "execution_count": 10,
   "metadata": {
    "ExecuteTime": {
     "end_time": "2023-09-30T14:34:46.189869Z",
     "start_time": "2023-09-30T14:34:46.169798Z"
    }
   },
   "outputs": [
    {
     "data": {
      "text/plain": "              therapy_id  Visit_Duration  MedProcess_Duration         pot  \\\n0  1066310426-TAGRISSO-1          -128.0                   72  Outpatient   \n1  1066310426-TAGRISSO-1          -128.0                   72  Outpatient   \n2  1066310426-TAGRISSO-1          -128.0                   72  Outpatient   \n3  1066310426-TAGRISSO-1          -128.0                   72  Outpatient   \n4  1066310426-TAGRISSO-1          -128.0                   72  Outpatient   \n\n     util_cat hedis_pot clm_type_x ade_diagnosis seizure_diagnosis  \\\n0  Outpatient     Other        med            No                No   \n1  Outpatient     Other        med            No                No   \n2  Outpatient     Other        med            No                No   \n3  Outpatient     Other        med            No                No   \n4  Outpatient     Other        med            No                No   \n\n  pain_diagnosis  ... nausea_treat_ind seizure_treat_ind  RxGroupings  \\\n0             No  ...               No                No    Infection   \n1             No  ...               No                No    Infection   \n2             No  ...               No                No  Respiratory   \n3             No  ...               No                No       Cardio   \n4             No  ...               No                No  Respiratory   \n\n  Date Duration tgt_ade_dc_ind  race_cd  est_age  sex_cd  cms_disabled_ind  \\\n0            30              0    White     74.0       M                No   \n1            30              0    White     74.0       M                No   \n2            30              0    White     74.0       M                No   \n3            30              0    White     74.0       M                No   \n4            30              0    White     74.0       M                No   \n\n   cms_low_income_ind  \n0                  No  \n1                  No  \n2                  No  \n3                  No  \n4                  No  \n\n[5 rows x 60 columns]",
      "text/html": "<div>\n<style scoped>\n    .dataframe tbody tr th:only-of-type {\n        vertical-align: middle;\n    }\n\n    .dataframe tbody tr th {\n        vertical-align: top;\n    }\n\n    .dataframe thead th {\n        text-align: right;\n    }\n</style>\n<table border=\"1\" class=\"dataframe\">\n  <thead>\n    <tr style=\"text-align: right;\">\n      <th></th>\n      <th>therapy_id</th>\n      <th>Visit_Duration</th>\n      <th>MedProcess_Duration</th>\n      <th>pot</th>\n      <th>util_cat</th>\n      <th>hedis_pot</th>\n      <th>clm_type_x</th>\n      <th>ade_diagnosis</th>\n      <th>seizure_diagnosis</th>\n      <th>pain_diagnosis</th>\n      <th>...</th>\n      <th>nausea_treat_ind</th>\n      <th>seizure_treat_ind</th>\n      <th>RxGroupings</th>\n      <th>Date Duration</th>\n      <th>tgt_ade_dc_ind</th>\n      <th>race_cd</th>\n      <th>est_age</th>\n      <th>sex_cd</th>\n      <th>cms_disabled_ind</th>\n      <th>cms_low_income_ind</th>\n    </tr>\n  </thead>\n  <tbody>\n    <tr>\n      <th>0</th>\n      <td>1066310426-TAGRISSO-1</td>\n      <td>-128.0</td>\n      <td>72</td>\n      <td>Outpatient</td>\n      <td>Outpatient</td>\n      <td>Other</td>\n      <td>med</td>\n      <td>No</td>\n      <td>No</td>\n      <td>No</td>\n      <td>...</td>\n      <td>No</td>\n      <td>No</td>\n      <td>Infection</td>\n      <td>30</td>\n      <td>0</td>\n      <td>White</td>\n      <td>74.0</td>\n      <td>M</td>\n      <td>No</td>\n      <td>No</td>\n    </tr>\n    <tr>\n      <th>1</th>\n      <td>1066310426-TAGRISSO-1</td>\n      <td>-128.0</td>\n      <td>72</td>\n      <td>Outpatient</td>\n      <td>Outpatient</td>\n      <td>Other</td>\n      <td>med</td>\n      <td>No</td>\n      <td>No</td>\n      <td>No</td>\n      <td>...</td>\n      <td>No</td>\n      <td>No</td>\n      <td>Infection</td>\n      <td>30</td>\n      <td>0</td>\n      <td>White</td>\n      <td>74.0</td>\n      <td>M</td>\n      <td>No</td>\n      <td>No</td>\n    </tr>\n    <tr>\n      <th>2</th>\n      <td>1066310426-TAGRISSO-1</td>\n      <td>-128.0</td>\n      <td>72</td>\n      <td>Outpatient</td>\n      <td>Outpatient</td>\n      <td>Other</td>\n      <td>med</td>\n      <td>No</td>\n      <td>No</td>\n      <td>No</td>\n      <td>...</td>\n      <td>No</td>\n      <td>No</td>\n      <td>Respiratory</td>\n      <td>30</td>\n      <td>0</td>\n      <td>White</td>\n      <td>74.0</td>\n      <td>M</td>\n      <td>No</td>\n      <td>No</td>\n    </tr>\n    <tr>\n      <th>3</th>\n      <td>1066310426-TAGRISSO-1</td>\n      <td>-128.0</td>\n      <td>72</td>\n      <td>Outpatient</td>\n      <td>Outpatient</td>\n      <td>Other</td>\n      <td>med</td>\n      <td>No</td>\n      <td>No</td>\n      <td>No</td>\n      <td>...</td>\n      <td>No</td>\n      <td>No</td>\n      <td>Cardio</td>\n      <td>30</td>\n      <td>0</td>\n      <td>White</td>\n      <td>74.0</td>\n      <td>M</td>\n      <td>No</td>\n      <td>No</td>\n    </tr>\n    <tr>\n      <th>4</th>\n      <td>1066310426-TAGRISSO-1</td>\n      <td>-128.0</td>\n      <td>72</td>\n      <td>Outpatient</td>\n      <td>Outpatient</td>\n      <td>Other</td>\n      <td>med</td>\n      <td>No</td>\n      <td>No</td>\n      <td>No</td>\n      <td>...</td>\n      <td>No</td>\n      <td>No</td>\n      <td>Respiratory</td>\n      <td>30</td>\n      <td>0</td>\n      <td>White</td>\n      <td>74.0</td>\n      <td>M</td>\n      <td>No</td>\n      <td>No</td>\n    </tr>\n  </tbody>\n</table>\n<p>5 rows × 60 columns</p>\n</div>"
     },
     "execution_count": 10,
     "metadata": {},
     "output_type": "execute_result"
    }
   ],
   "source": [
    "model_data.head()"
   ]
  },
  {
   "cell_type": "code",
   "execution_count": 13,
   "metadata": {
    "ExecuteTime": {
     "end_time": "2023-09-30T14:42:19.782139Z",
     "start_time": "2023-09-30T14:42:16.300284Z"
    }
   },
   "outputs": [],
   "source": [
    "# Convert categorical variables to dummy variables or map to numeric values\n",
    "race = pd.get_dummies(model_data['race_cd'], dtype=int, drop_first=False)\n",
    "ade_flag = pd.get_dummies(model_data['ade_diagnosis'], dtype=int, drop_first=True)\n",
    "seizure_flag = pd.get_dummies(model_data['seizure_diagnosis'], dtype=int, drop_first=True)\n",
    "pain_flag = pd.get_dummies(model_data['pain_diagnosis'], dtype=int, drop_first=True)\n",
    "mail_flag = pd.get_dummies(model_data['mail_order_iNod'], dtype=int, drop_first=True)\n",
    "\n",
    "# Map 'generic_ind' and 'maint_id' to binary values\n",
    "generic_flag = model_data['generic_ind'].replace({'GENERIC': 1, 'BRANDED': 0})\n",
    "maintenance_flag = model_data['maint_ind'].replace({'MAINT': 1, 'NONMAINT': 0})\n",
    "\n",
    "# Convert 'ddi_ind' to dummy variables\n",
    "ddi_flag = pd.get_dummies(model_data['ddi_ind'], dtype=int, drop_first=True)\n",
    "\n",
    "# Convert 'tgt_ade_dc_ind' from Yes and No to 1 and 0 (Binary)\n",
    "data['tgt_ade_dc_ind'] = data['tgt_ade_dc_ind'].replace({'Yes': 1, 'No': 0})"
   ]
  },
  {
   "cell_type": "markdown",
   "source": [
    "# INSERT HOLDOUT DATA HERE"
   ],
   "metadata": {
    "collapsed": false
   }
  },
  {
   "cell_type": "code",
   "execution_count": 23,
   "outputs": [],
   "source": [
    "# import pandas as pd\n",
    "# \n",
    "# # Define file paths for your CSV files\n",
    "# med_holdout_path = \"/Users/brocktbennett/GitHub/Project Data/2023_TAMU_competition_data/Cleaned Holdout/medclms_holdout_cleaned9_29.csv\"\n",
    "# rx_holdout_path = \"/Users/brocktbennett/GitHub/Project Data/2023_TAMU_competition_data/Cleaned Holdout/rxclms_holdout_cleaned9_29.csv\"\n",
    "# \n",
    "# # Read holdout data from CSV files with specified encoding\n",
    "# try:\n",
    "#     med_holdout = pd.read_csv(med_holdout_path, encoding='utf-8')\n",
    "# except UnicodeDecodeError:\n",
    "#     med_holdout = pd.read_csv(med_holdout_path, encoding='latin1')\n",
    "# \n",
    "# try:\n",
    "#     rx_holdout = pd.read_csv(rx_holdout_path, encoding='utf-8')\n",
    "# except UnicodeDecodeError:\n",
    "#     rx_holdout = pd.read_csv(rx_holdout_path, encoding='latin1')\n",
    "\n"
   ],
   "metadata": {
    "collapsed": false,
    "ExecuteTime": {
     "end_time": "2023-09-30T14:57:55.350377Z",
     "start_time": "2023-09-30T14:57:55.199222Z"
    }
   }
  },
  {
   "cell_type": "code",
   "execution_count": 24,
   "metadata": {
    "ExecuteTime": {
     "end_time": "2023-09-30T15:01:05.410023Z",
     "start_time": "2023-09-30T15:01:02.187826Z"
    }
   },
   "outputs": [],
   "source": [
    "# Skipping Data Exploration\n",
    "# Dummification of Diagnosis Column --should we use \n",
    "dummies = pd.get_dummies(data['race_cd'])\n",
    "\n",
    "# Add the dummies to the original data frame \n",
    "data = pd.concat([data, dummies], axis=1)"
   ]
  },
  {
   "cell_type": "code",
   "execution_count": 25,
   "metadata": {
    "ExecuteTime": {
     "end_time": "2023-09-30T15:01:32.112031Z",
     "start_time": "2023-09-30T15:01:32.106397Z"
    }
   },
   "outputs": [],
   "source": [
    "# Splitting Dataset in two parts for testing\n",
    "train = model_data[0:400]\n",
    "test = model_data[400:568]\n",
    "\n",
    "#FOR REAL\n",
    "###test = pd.read_csv(\"HOLDOUT_MERGED_.csv\")\n"
   ]
  },
  {
   "cell_type": "code",
   "execution_count": 26,
   "metadata": {
    "ExecuteTime": {
     "end_time": "2023-09-30T15:01:38.870477Z",
     "start_time": "2023-09-30T15:01:38.866085Z"
    }
   },
   "outputs": [],
   "source": [
    "# Separating the independent and target variable on both data set\n",
    "x_train = train.drop(columns =['tgt_ade_dc_ind'], axis = 1)\n",
    "y_train = train['tgt_ade_dc_ind']\n",
    "x_test = test.drop(columns =['tgt_ade_dc_ind'], axis = 1)\n",
    "y_test = test['tgt_ade_dc_ind']\n"
   ]
  },
  {
   "cell_type": "code",
   "execution_count": 27,
   "metadata": {
    "ExecuteTime": {
     "end_time": "2023-09-30T15:01:48.631645Z",
     "start_time": "2023-09-30T15:01:47.996779Z"
    }
   },
   "outputs": [
    {
     "ename": "ValueError",
     "evalue": "pandas dtypes must be int, float or bool.\nFields with bad pandas dtypes: therapy_id: object, pot: object, util_cat: object, hedis_pot: object, clm_type_x: object, ade_diagnosis: object, seizure_diagnosis: object, pain_diagnosis: object, fatigue_diagnosis: object, nausea_diagnosis: object, hyperglycemia_diagnosis: object, constipation_diagnosis: object, diarrhea_diagnosis: object, mail_order_iNod: object, generic_ind: object, maint_ind: object, clm_type_y: object, ddi_ind: object, anticoag_ind: object, diarrhea_treat_ind: object, nausea_treat_ind: object, seizure_treat_ind: object, RxGroupings: object, race_cd: object, sex_cd: object, cms_disabled_ind: object, cms_low_income_ind: object",
     "output_type": "error",
     "traceback": [
      "\u001B[0;31m---------------------------------------------------------------------------\u001B[0m",
      "\u001B[0;31mValueError\u001B[0m                                Traceback (most recent call last)",
      "Cell \u001B[0;32mIn[27], line 3\u001B[0m\n\u001B[1;32m      1\u001B[0m \u001B[38;5;66;03m# Creating an object for model and fitting it on training data set\u001B[39;00m\n\u001B[1;32m      2\u001B[0m model \u001B[38;5;241m=\u001B[39m LGBMClassifier()\n\u001B[0;32m----> 3\u001B[0m \u001B[43mmodel\u001B[49m\u001B[38;5;241;43m.\u001B[39;49m\u001B[43mfit\u001B[49m\u001B[43m(\u001B[49m\u001B[43mx_train\u001B[49m\u001B[43m,\u001B[49m\u001B[43m \u001B[49m\u001B[43my_train\u001B[49m\u001B[43m)\u001B[49m\n\u001B[1;32m      5\u001B[0m \u001B[38;5;66;03m# Predicting the Target variable\u001B[39;00m\n\u001B[1;32m      6\u001B[0m pred \u001B[38;5;241m=\u001B[39m model\u001B[38;5;241m.\u001B[39mpredict(x_test)\n",
      "File \u001B[0;32m/usr/local/lib/python3.8/site-packages/lightgbm/sklearn.py:1142\u001B[0m, in \u001B[0;36mLGBMClassifier.fit\u001B[0;34m(self, X, y, sample_weight, init_score, eval_set, eval_names, eval_sample_weight, eval_class_weight, eval_init_score, eval_metric, feature_name, categorical_feature, callbacks, init_model)\u001B[0m\n\u001B[1;32m   1139\u001B[0m         \u001B[38;5;28;01melse\u001B[39;00m:\n\u001B[1;32m   1140\u001B[0m             valid_sets\u001B[38;5;241m.\u001B[39mappend((valid_x, \u001B[38;5;28mself\u001B[39m\u001B[38;5;241m.\u001B[39m_le\u001B[38;5;241m.\u001B[39mtransform(valid_y)))\n\u001B[0;32m-> 1142\u001B[0m \u001B[38;5;28;43msuper\u001B[39;49m\u001B[43m(\u001B[49m\u001B[43m)\u001B[49m\u001B[38;5;241;43m.\u001B[39;49m\u001B[43mfit\u001B[49m\u001B[43m(\u001B[49m\n\u001B[1;32m   1143\u001B[0m \u001B[43m    \u001B[49m\u001B[43mX\u001B[49m\u001B[43m,\u001B[49m\n\u001B[1;32m   1144\u001B[0m \u001B[43m    \u001B[49m\u001B[43m_y\u001B[49m\u001B[43m,\u001B[49m\n\u001B[1;32m   1145\u001B[0m \u001B[43m    \u001B[49m\u001B[43msample_weight\u001B[49m\u001B[38;5;241;43m=\u001B[39;49m\u001B[43msample_weight\u001B[49m\u001B[43m,\u001B[49m\n\u001B[1;32m   1146\u001B[0m \u001B[43m    \u001B[49m\u001B[43minit_score\u001B[49m\u001B[38;5;241;43m=\u001B[39;49m\u001B[43minit_score\u001B[49m\u001B[43m,\u001B[49m\n\u001B[1;32m   1147\u001B[0m \u001B[43m    \u001B[49m\u001B[43meval_set\u001B[49m\u001B[38;5;241;43m=\u001B[39;49m\u001B[43mvalid_sets\u001B[49m\u001B[43m,\u001B[49m\n\u001B[1;32m   1148\u001B[0m \u001B[43m    \u001B[49m\u001B[43meval_names\u001B[49m\u001B[38;5;241;43m=\u001B[39;49m\u001B[43meval_names\u001B[49m\u001B[43m,\u001B[49m\n\u001B[1;32m   1149\u001B[0m \u001B[43m    \u001B[49m\u001B[43meval_sample_weight\u001B[49m\u001B[38;5;241;43m=\u001B[39;49m\u001B[43meval_sample_weight\u001B[49m\u001B[43m,\u001B[49m\n\u001B[1;32m   1150\u001B[0m \u001B[43m    \u001B[49m\u001B[43meval_class_weight\u001B[49m\u001B[38;5;241;43m=\u001B[39;49m\u001B[43meval_class_weight\u001B[49m\u001B[43m,\u001B[49m\n\u001B[1;32m   1151\u001B[0m \u001B[43m    \u001B[49m\u001B[43meval_init_score\u001B[49m\u001B[38;5;241;43m=\u001B[39;49m\u001B[43meval_init_score\u001B[49m\u001B[43m,\u001B[49m\n\u001B[1;32m   1152\u001B[0m \u001B[43m    \u001B[49m\u001B[43meval_metric\u001B[49m\u001B[38;5;241;43m=\u001B[39;49m\u001B[43meval_metric\u001B[49m\u001B[43m,\u001B[49m\n\u001B[1;32m   1153\u001B[0m \u001B[43m    \u001B[49m\u001B[43mfeature_name\u001B[49m\u001B[38;5;241;43m=\u001B[39;49m\u001B[43mfeature_name\u001B[49m\u001B[43m,\u001B[49m\n\u001B[1;32m   1154\u001B[0m \u001B[43m    \u001B[49m\u001B[43mcategorical_feature\u001B[49m\u001B[38;5;241;43m=\u001B[39;49m\u001B[43mcategorical_feature\u001B[49m\u001B[43m,\u001B[49m\n\u001B[1;32m   1155\u001B[0m \u001B[43m    \u001B[49m\u001B[43mcallbacks\u001B[49m\u001B[38;5;241;43m=\u001B[39;49m\u001B[43mcallbacks\u001B[49m\u001B[43m,\u001B[49m\n\u001B[1;32m   1156\u001B[0m \u001B[43m    \u001B[49m\u001B[43minit_model\u001B[49m\u001B[38;5;241;43m=\u001B[39;49m\u001B[43minit_model\u001B[49m\n\u001B[1;32m   1157\u001B[0m \u001B[43m\u001B[49m\u001B[43m)\u001B[49m\n\u001B[1;32m   1158\u001B[0m \u001B[38;5;28;01mreturn\u001B[39;00m \u001B[38;5;28mself\u001B[39m\n",
      "File \u001B[0;32m/usr/local/lib/python3.8/site-packages/lightgbm/sklearn.py:842\u001B[0m, in \u001B[0;36mLGBMModel.fit\u001B[0;34m(self, X, y, sample_weight, init_score, group, eval_set, eval_names, eval_sample_weight, eval_class_weight, eval_init_score, eval_group, eval_metric, feature_name, categorical_feature, callbacks, init_model)\u001B[0m\n\u001B[1;32m    839\u001B[0m evals_result: _EvalResultDict \u001B[38;5;241m=\u001B[39m {}\n\u001B[1;32m    840\u001B[0m callbacks\u001B[38;5;241m.\u001B[39mappend(record_evaluation(evals_result))\n\u001B[0;32m--> 842\u001B[0m \u001B[38;5;28mself\u001B[39m\u001B[38;5;241m.\u001B[39m_Booster \u001B[38;5;241m=\u001B[39m \u001B[43mtrain\u001B[49m\u001B[43m(\u001B[49m\n\u001B[1;32m    843\u001B[0m \u001B[43m    \u001B[49m\u001B[43mparams\u001B[49m\u001B[38;5;241;43m=\u001B[39;49m\u001B[43mparams\u001B[49m\u001B[43m,\u001B[49m\n\u001B[1;32m    844\u001B[0m \u001B[43m    \u001B[49m\u001B[43mtrain_set\u001B[49m\u001B[38;5;241;43m=\u001B[39;49m\u001B[43mtrain_set\u001B[49m\u001B[43m,\u001B[49m\n\u001B[1;32m    845\u001B[0m \u001B[43m    \u001B[49m\u001B[43mnum_boost_round\u001B[49m\u001B[38;5;241;43m=\u001B[39;49m\u001B[38;5;28;43mself\u001B[39;49m\u001B[38;5;241;43m.\u001B[39;49m\u001B[43mn_estimators\u001B[49m\u001B[43m,\u001B[49m\n\u001B[1;32m    846\u001B[0m \u001B[43m    \u001B[49m\u001B[43mvalid_sets\u001B[49m\u001B[38;5;241;43m=\u001B[39;49m\u001B[43mvalid_sets\u001B[49m\u001B[43m,\u001B[49m\n\u001B[1;32m    847\u001B[0m \u001B[43m    \u001B[49m\u001B[43mvalid_names\u001B[49m\u001B[38;5;241;43m=\u001B[39;49m\u001B[43meval_names\u001B[49m\u001B[43m,\u001B[49m\n\u001B[1;32m    848\u001B[0m \u001B[43m    \u001B[49m\u001B[43mfeval\u001B[49m\u001B[38;5;241;43m=\u001B[39;49m\u001B[43meval_metrics_callable\u001B[49m\u001B[43m,\u001B[49m\u001B[43m  \u001B[49m\u001B[38;5;66;43;03m# type: ignore[arg-type]\u001B[39;49;00m\n\u001B[1;32m    849\u001B[0m \u001B[43m    \u001B[49m\u001B[43minit_model\u001B[49m\u001B[38;5;241;43m=\u001B[39;49m\u001B[43minit_model\u001B[49m\u001B[43m,\u001B[49m\n\u001B[1;32m    850\u001B[0m \u001B[43m    \u001B[49m\u001B[43mfeature_name\u001B[49m\u001B[38;5;241;43m=\u001B[39;49m\u001B[43mfeature_name\u001B[49m\u001B[43m,\u001B[49m\n\u001B[1;32m    851\u001B[0m \u001B[43m    \u001B[49m\u001B[43mcallbacks\u001B[49m\u001B[38;5;241;43m=\u001B[39;49m\u001B[43mcallbacks\u001B[49m\n\u001B[1;32m    852\u001B[0m \u001B[43m\u001B[49m\u001B[43m)\u001B[49m\n\u001B[1;32m    854\u001B[0m \u001B[38;5;28mself\u001B[39m\u001B[38;5;241m.\u001B[39m_evals_result \u001B[38;5;241m=\u001B[39m evals_result\n\u001B[1;32m    855\u001B[0m \u001B[38;5;28mself\u001B[39m\u001B[38;5;241m.\u001B[39m_best_iteration \u001B[38;5;241m=\u001B[39m \u001B[38;5;28mself\u001B[39m\u001B[38;5;241m.\u001B[39m_Booster\u001B[38;5;241m.\u001B[39mbest_iteration\n",
      "File \u001B[0;32m/usr/local/lib/python3.8/site-packages/lightgbm/engine.py:255\u001B[0m, in \u001B[0;36mtrain\u001B[0;34m(params, train_set, num_boost_round, valid_sets, valid_names, feval, init_model, feature_name, categorical_feature, keep_training_booster, callbacks)\u001B[0m\n\u001B[1;32m    253\u001B[0m \u001B[38;5;66;03m# construct booster\u001B[39;00m\n\u001B[1;32m    254\u001B[0m \u001B[38;5;28;01mtry\u001B[39;00m:\n\u001B[0;32m--> 255\u001B[0m     booster \u001B[38;5;241m=\u001B[39m \u001B[43mBooster\u001B[49m\u001B[43m(\u001B[49m\u001B[43mparams\u001B[49m\u001B[38;5;241;43m=\u001B[39;49m\u001B[43mparams\u001B[49m\u001B[43m,\u001B[49m\u001B[43m \u001B[49m\u001B[43mtrain_set\u001B[49m\u001B[38;5;241;43m=\u001B[39;49m\u001B[43mtrain_set\u001B[49m\u001B[43m)\u001B[49m\n\u001B[1;32m    256\u001B[0m     \u001B[38;5;28;01mif\u001B[39;00m is_valid_contain_train:\n\u001B[1;32m    257\u001B[0m         booster\u001B[38;5;241m.\u001B[39mset_train_data_name(train_data_name)\n",
      "File \u001B[0;32m/usr/local/lib/python3.8/site-packages/lightgbm/basic.py:3200\u001B[0m, in \u001B[0;36mBooster.__init__\u001B[0;34m(self, params, train_set, model_file, model_str)\u001B[0m\n\u001B[1;32m   3193\u001B[0m     \u001B[38;5;28mself\u001B[39m\u001B[38;5;241m.\u001B[39mset_network(\n\u001B[1;32m   3194\u001B[0m         machines\u001B[38;5;241m=\u001B[39mmachines,\n\u001B[1;32m   3195\u001B[0m         local_listen_port\u001B[38;5;241m=\u001B[39mparams[\u001B[38;5;124m\"\u001B[39m\u001B[38;5;124mlocal_listen_port\u001B[39m\u001B[38;5;124m\"\u001B[39m],\n\u001B[1;32m   3196\u001B[0m         listen_time_out\u001B[38;5;241m=\u001B[39mparams\u001B[38;5;241m.\u001B[39mget(\u001B[38;5;124m\"\u001B[39m\u001B[38;5;124mtime_out\u001B[39m\u001B[38;5;124m\"\u001B[39m, \u001B[38;5;241m120\u001B[39m),\n\u001B[1;32m   3197\u001B[0m         num_machines\u001B[38;5;241m=\u001B[39mparams[\u001B[38;5;124m\"\u001B[39m\u001B[38;5;124mnum_machines\u001B[39m\u001B[38;5;124m\"\u001B[39m]\n\u001B[1;32m   3198\u001B[0m     )\n\u001B[1;32m   3199\u001B[0m \u001B[38;5;66;03m# construct booster object\u001B[39;00m\n\u001B[0;32m-> 3200\u001B[0m \u001B[43mtrain_set\u001B[49m\u001B[38;5;241;43m.\u001B[39;49m\u001B[43mconstruct\u001B[49m\u001B[43m(\u001B[49m\u001B[43m)\u001B[49m\n\u001B[1;32m   3201\u001B[0m \u001B[38;5;66;03m# copy the parameters from train_set\u001B[39;00m\n\u001B[1;32m   3202\u001B[0m params\u001B[38;5;241m.\u001B[39mupdate(train_set\u001B[38;5;241m.\u001B[39mget_params())\n",
      "File \u001B[0;32m/usr/local/lib/python3.8/site-packages/lightgbm/basic.py:2276\u001B[0m, in \u001B[0;36mDataset.construct\u001B[0;34m(self)\u001B[0m\n\u001B[1;32m   2269\u001B[0m             \u001B[38;5;28mself\u001B[39m\u001B[38;5;241m.\u001B[39m_set_init_score_by_predictor(\n\u001B[1;32m   2270\u001B[0m                 predictor\u001B[38;5;241m=\u001B[39m\u001B[38;5;28mself\u001B[39m\u001B[38;5;241m.\u001B[39m_predictor,\n\u001B[1;32m   2271\u001B[0m                 data\u001B[38;5;241m=\u001B[39m\u001B[38;5;28mself\u001B[39m\u001B[38;5;241m.\u001B[39mdata,\n\u001B[1;32m   2272\u001B[0m                 used_indices\u001B[38;5;241m=\u001B[39mused_indices\n\u001B[1;32m   2273\u001B[0m             )\n\u001B[1;32m   2274\u001B[0m \u001B[38;5;28;01melse\u001B[39;00m:\n\u001B[1;32m   2275\u001B[0m     \u001B[38;5;66;03m# create train\u001B[39;00m\n\u001B[0;32m-> 2276\u001B[0m     \u001B[38;5;28;43mself\u001B[39;49m\u001B[38;5;241;43m.\u001B[39;49m\u001B[43m_lazy_init\u001B[49m\u001B[43m(\u001B[49m\u001B[43mdata\u001B[49m\u001B[38;5;241;43m=\u001B[39;49m\u001B[38;5;28;43mself\u001B[39;49m\u001B[38;5;241;43m.\u001B[39;49m\u001B[43mdata\u001B[49m\u001B[43m,\u001B[49m\u001B[43m \u001B[49m\u001B[43mlabel\u001B[49m\u001B[38;5;241;43m=\u001B[39;49m\u001B[38;5;28;43mself\u001B[39;49m\u001B[38;5;241;43m.\u001B[39;49m\u001B[43mlabel\u001B[49m\u001B[43m,\u001B[49m\u001B[43m \u001B[49m\u001B[43mreference\u001B[49m\u001B[38;5;241;43m=\u001B[39;49m\u001B[38;5;28;43;01mNone\u001B[39;49;00m\u001B[43m,\u001B[49m\n\u001B[1;32m   2277\u001B[0m \u001B[43m                    \u001B[49m\u001B[43mweight\u001B[49m\u001B[38;5;241;43m=\u001B[39;49m\u001B[38;5;28;43mself\u001B[39;49m\u001B[38;5;241;43m.\u001B[39;49m\u001B[43mweight\u001B[49m\u001B[43m,\u001B[49m\u001B[43m \u001B[49m\u001B[43mgroup\u001B[49m\u001B[38;5;241;43m=\u001B[39;49m\u001B[38;5;28;43mself\u001B[39;49m\u001B[38;5;241;43m.\u001B[39;49m\u001B[43mgroup\u001B[49m\u001B[43m,\u001B[49m\n\u001B[1;32m   2278\u001B[0m \u001B[43m                    \u001B[49m\u001B[43minit_score\u001B[49m\u001B[38;5;241;43m=\u001B[39;49m\u001B[38;5;28;43mself\u001B[39;49m\u001B[38;5;241;43m.\u001B[39;49m\u001B[43minit_score\u001B[49m\u001B[43m,\u001B[49m\u001B[43m \u001B[49m\u001B[43mpredictor\u001B[49m\u001B[38;5;241;43m=\u001B[39;49m\u001B[38;5;28;43mself\u001B[39;49m\u001B[38;5;241;43m.\u001B[39;49m\u001B[43m_predictor\u001B[49m\u001B[43m,\u001B[49m\n\u001B[1;32m   2279\u001B[0m \u001B[43m                    \u001B[49m\u001B[43mfeature_name\u001B[49m\u001B[38;5;241;43m=\u001B[39;49m\u001B[38;5;28;43mself\u001B[39;49m\u001B[38;5;241;43m.\u001B[39;49m\u001B[43mfeature_name\u001B[49m\u001B[43m,\u001B[49m\u001B[43m \u001B[49m\u001B[43mcategorical_feature\u001B[49m\u001B[38;5;241;43m=\u001B[39;49m\u001B[38;5;28;43mself\u001B[39;49m\u001B[38;5;241;43m.\u001B[39;49m\u001B[43mcategorical_feature\u001B[49m\u001B[43m,\u001B[49m\n\u001B[1;32m   2280\u001B[0m \u001B[43m                    \u001B[49m\u001B[43mparams\u001B[49m\u001B[38;5;241;43m=\u001B[39;49m\u001B[38;5;28;43mself\u001B[39;49m\u001B[38;5;241;43m.\u001B[39;49m\u001B[43mparams\u001B[49m\u001B[43m,\u001B[49m\u001B[43m \u001B[49m\u001B[43mposition\u001B[49m\u001B[38;5;241;43m=\u001B[39;49m\u001B[38;5;28;43mself\u001B[39;49m\u001B[38;5;241;43m.\u001B[39;49m\u001B[43mposition\u001B[49m\u001B[43m)\u001B[49m\n\u001B[1;32m   2281\u001B[0m \u001B[38;5;28;01mif\u001B[39;00m \u001B[38;5;28mself\u001B[39m\u001B[38;5;241m.\u001B[39mfree_raw_data:\n\u001B[1;32m   2282\u001B[0m     \u001B[38;5;28mself\u001B[39m\u001B[38;5;241m.\u001B[39mdata \u001B[38;5;241m=\u001B[39m \u001B[38;5;28;01mNone\u001B[39;00m\n",
      "File \u001B[0;32m/usr/local/lib/python3.8/site-packages/lightgbm/basic.py:1861\u001B[0m, in \u001B[0;36mDataset._lazy_init\u001B[0;34m(self, data, label, reference, weight, group, init_score, predictor, feature_name, categorical_feature, params, position)\u001B[0m\n\u001B[1;32m   1859\u001B[0m     categorical_feature \u001B[38;5;241m=\u001B[39m reference\u001B[38;5;241m.\u001B[39mcategorical_feature\n\u001B[1;32m   1860\u001B[0m \u001B[38;5;28;01mif\u001B[39;00m \u001B[38;5;28misinstance\u001B[39m(data, pd_DataFrame):\n\u001B[0;32m-> 1861\u001B[0m     data, feature_name, categorical_feature, \u001B[38;5;28mself\u001B[39m\u001B[38;5;241m.\u001B[39mpandas_categorical \u001B[38;5;241m=\u001B[39m \u001B[43m_data_from_pandas\u001B[49m\u001B[43m(\u001B[49m\n\u001B[1;32m   1862\u001B[0m \u001B[43m        \u001B[49m\u001B[43mdata\u001B[49m\u001B[38;5;241;43m=\u001B[39;49m\u001B[43mdata\u001B[49m\u001B[43m,\u001B[49m\n\u001B[1;32m   1863\u001B[0m \u001B[43m        \u001B[49m\u001B[43mfeature_name\u001B[49m\u001B[38;5;241;43m=\u001B[39;49m\u001B[43mfeature_name\u001B[49m\u001B[43m,\u001B[49m\n\u001B[1;32m   1864\u001B[0m \u001B[43m        \u001B[49m\u001B[43mcategorical_feature\u001B[49m\u001B[38;5;241;43m=\u001B[39;49m\u001B[43mcategorical_feature\u001B[49m\u001B[43m,\u001B[49m\n\u001B[1;32m   1865\u001B[0m \u001B[43m        \u001B[49m\u001B[43mpandas_categorical\u001B[49m\u001B[38;5;241;43m=\u001B[39;49m\u001B[38;5;28;43mself\u001B[39;49m\u001B[38;5;241;43m.\u001B[39;49m\u001B[43mpandas_categorical\u001B[49m\n\u001B[1;32m   1866\u001B[0m \u001B[43m    \u001B[49m\u001B[43m)\u001B[49m\n\u001B[1;32m   1868\u001B[0m \u001B[38;5;66;03m# process for args\u001B[39;00m\n\u001B[1;32m   1869\u001B[0m params \u001B[38;5;241m=\u001B[39m {} \u001B[38;5;28;01mif\u001B[39;00m params \u001B[38;5;129;01mis\u001B[39;00m \u001B[38;5;28;01mNone\u001B[39;00m \u001B[38;5;28;01melse\u001B[39;00m params\n",
      "File \u001B[0;32m/usr/local/lib/python3.8/site-packages/lightgbm/basic.py:703\u001B[0m, in \u001B[0;36m_data_from_pandas\u001B[0;34m(data, feature_name, categorical_feature, pandas_categorical)\u001B[0m\n\u001B[1;32m    700\u001B[0m     categorical_feature \u001B[38;5;241m=\u001B[39m \u001B[38;5;28mlist\u001B[39m(categorical_feature)  \u001B[38;5;66;03m# type: ignore[assignment]\u001B[39;00m\n\u001B[1;32m    702\u001B[0m \u001B[38;5;66;03m# get numpy representation of the data\u001B[39;00m\n\u001B[0;32m--> 703\u001B[0m \u001B[43m_check_for_bad_pandas_dtypes\u001B[49m\u001B[43m(\u001B[49m\u001B[43mdata\u001B[49m\u001B[38;5;241;43m.\u001B[39;49m\u001B[43mdtypes\u001B[49m\u001B[43m)\u001B[49m\n\u001B[1;32m    704\u001B[0m df_dtypes \u001B[38;5;241m=\u001B[39m [dtype\u001B[38;5;241m.\u001B[39mtype \u001B[38;5;28;01mfor\u001B[39;00m dtype \u001B[38;5;129;01min\u001B[39;00m data\u001B[38;5;241m.\u001B[39mdtypes]\n\u001B[1;32m    705\u001B[0m df_dtypes\u001B[38;5;241m.\u001B[39mappend(np\u001B[38;5;241m.\u001B[39mfloat32)  \u001B[38;5;66;03m# so that the target dtype considers floats\u001B[39;00m\n",
      "File \u001B[0;32m/usr/local/lib/python3.8/site-packages/lightgbm/basic.py:666\u001B[0m, in \u001B[0;36m_check_for_bad_pandas_dtypes\u001B[0;34m(pandas_dtypes_series)\u001B[0m\n\u001B[1;32m    660\u001B[0m bad_pandas_dtypes \u001B[38;5;241m=\u001B[39m [\n\u001B[1;32m    661\u001B[0m     \u001B[38;5;124mf\u001B[39m\u001B[38;5;124m'\u001B[39m\u001B[38;5;132;01m{\u001B[39;00mcolumn_name\u001B[38;5;132;01m}\u001B[39;00m\u001B[38;5;124m: \u001B[39m\u001B[38;5;132;01m{\u001B[39;00mpandas_dtype\u001B[38;5;132;01m}\u001B[39;00m\u001B[38;5;124m'\u001B[39m\n\u001B[1;32m    662\u001B[0m     \u001B[38;5;28;01mfor\u001B[39;00m column_name, pandas_dtype \u001B[38;5;129;01min\u001B[39;00m pandas_dtypes_series\u001B[38;5;241m.\u001B[39mitems()\n\u001B[1;32m    663\u001B[0m     \u001B[38;5;28;01mif\u001B[39;00m \u001B[38;5;129;01mnot\u001B[39;00m _is_allowed_numpy_dtype(pandas_dtype\u001B[38;5;241m.\u001B[39mtype)\n\u001B[1;32m    664\u001B[0m ]\n\u001B[1;32m    665\u001B[0m \u001B[38;5;28;01mif\u001B[39;00m bad_pandas_dtypes:\n\u001B[0;32m--> 666\u001B[0m     \u001B[38;5;28;01mraise\u001B[39;00m \u001B[38;5;167;01mValueError\u001B[39;00m(\u001B[38;5;124m'\u001B[39m\u001B[38;5;124mpandas dtypes must be int, float or bool.\u001B[39m\u001B[38;5;130;01m\\n\u001B[39;00m\u001B[38;5;124m'\u001B[39m\n\u001B[1;32m    667\u001B[0m                      \u001B[38;5;124mf\u001B[39m\u001B[38;5;124m'\u001B[39m\u001B[38;5;124mFields with bad pandas dtypes: \u001B[39m\u001B[38;5;132;01m{\u001B[39;00m\u001B[38;5;124m\"\u001B[39m\u001B[38;5;124m, \u001B[39m\u001B[38;5;124m\"\u001B[39m\u001B[38;5;241m.\u001B[39mjoin(bad_pandas_dtypes)\u001B[38;5;132;01m}\u001B[39;00m\u001B[38;5;124m'\u001B[39m)\n",
      "\u001B[0;31mValueError\u001B[0m: pandas dtypes must be int, float or bool.\nFields with bad pandas dtypes: therapy_id: object, pot: object, util_cat: object, hedis_pot: object, clm_type_x: object, ade_diagnosis: object, seizure_diagnosis: object, pain_diagnosis: object, fatigue_diagnosis: object, nausea_diagnosis: object, hyperglycemia_diagnosis: object, constipation_diagnosis: object, diarrhea_diagnosis: object, mail_order_iNod: object, generic_ind: object, maint_ind: object, clm_type_y: object, ddi_ind: object, anticoag_ind: object, diarrhea_treat_ind: object, nausea_treat_ind: object, seizure_treat_ind: object, RxGroupings: object, race_cd: object, sex_cd: object, cms_disabled_ind: object, cms_low_income_ind: object"
     ]
    }
   ],
   "source": [
    "# Creating an object for model and fitting it on training data set\n",
    "model = LGBMClassifier()\n",
    "model.fit(x_train, y_train)\n",
    "\n",
    "# Predicting the Target variable\n",
    "pred = model.predict(x_test)\n",
    "print(pred)\n",
    "accuracy = model.score(x_test, y_test)\n",
    "print(accuracy)\n",
    "\n"
   ]
  },
  {
   "cell_type": "code",
   "execution_count": null,
   "outputs": [],
   "source": [],
   "metadata": {
    "collapsed": false
   }
  }
 ],
 "metadata": {
  "kernelspec": {
   "display_name": "Python 3",
   "language": "python",
   "name": "python3"
  },
  "language_info": {
   "codemirror_mode": {
    "name": "ipython",
    "version": 3
   },
   "file_extension": ".py",
   "mimetype": "text/x-python",
   "name": "python",
   "nbconvert_exporter": "python",
   "pygments_lexer": "ipython3",
   "version": "3.11.5"
  },
  "orig_nbformat": 4
 },
 "nbformat": 4,
 "nbformat_minor": 2
}
