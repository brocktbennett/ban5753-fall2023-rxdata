{
 "cells": [
  {
   "cell_type": "markdown",
   "id": "413f24fc669f8fe2",
   "metadata": {
    "collapsed": false,
    "jupyter": {
     "outputs_hidden": false
    }
   },
   "source": [
    "# 2023 Humana Mays Healthcare Analytics Case Competition\n",
    "## Problem Prompt\n",
    "**By: Dustin James Harper—Senior Data Scientist, Humana Pharmacy Analytics and Consulting**\n",
    "\n",
    "---\n",
    "\n",
    "### Introduction\n",
    "This Jupyter Notebook outlines the problem statement and available data for the 2023 Humana Mays Healthcare Analytics Case Competition. For additional information about registration, schedule, submission logistics, and the leaderboard, visit [Humana TAMU Analytics](https://mays.tamu.edu/humana-tamu-analytics/).\n",
    "\n",
    "---\n",
    "\n",
    "### Table of Contents\n",
    "1. [Motivation and Opportunity](#Motivation-and-Opportunity)\n",
    "2. [Predictive Modeling Target](#Predictive-Modeling-Target)\n",
    "    1. [Unsuccessful Therapy](#Unsuccessful-Therapy)\n",
    "    2. [All Other Therapies](#All-Other-Therapies)\n",
    "3. [Available Data](#Available-Data)\n",
    "    1. [File Descriptions](#File-Descriptions)\n",
    "\n",
    "---\n",
    "\n",
    "### 1. Motivation and Opportunity\n",
    "Cancer remains a leading cause of death in the U.S., despite significant advances in research and new therapies. One such medication, Osimertinib, has been effective but also presents challenges due to its side effects. About a quarter of Humana members taking Osimertinib discontinue their therapy within the first 6 months due to side effects. The aim is to leverage data and analytics to encourage medication adherence.\n",
    "\n",
    "---\n",
    "\n",
    "### 2. Predictive Modeling Target\n",
    "Your task is to build a predictive model that identifies patients who are likely to discontinue Osimertinib therapy due to adverse drug events (ADEs).\n",
    "\n",
    "#### 2.1 Unsuccessful Therapy\n",
    "- **`tgt_ade_dc_ind == 1`**: Therapy that ends before 180 days and has an ADE reported during the therapy.\n",
    "\n",
    "#### 2.2 All Other Therapies\n",
    "- **`tgt_ade_dc_ind == 0`**: Includes successful therapies, therapies with no ADEs, and those where members changed insurance plans or passed away before 180 days.\n",
    "\n",
    "---\n",
    "\n",
    "### 3. Available Data\n",
    "The data is organized based on a specific therapy with one member, a start date, and an end date. The datasets are separated into a training and holdout set.\n",
    "\n",
    "#### 3.1 File Descriptions\n",
    "- **Target**: `target_train.csv` (1232 records), `target_holdout.csv` (420 records)\n",
    "- **Medical Claims**: `medclms_train.csv` (100159 records), `medclms_holdout.csv` (23232 records)\n",
    "- **Pharmacy Claims**: `rxclms_train.csv` (32133 records), `rxclms_holdout.csv` (6670 records)\n",
    "- **Data Dictionary**: `data_dictionary.csv` (49 records)\n",
    "- **Race Code Descriptions**: `race_cd_desc.csv` (7 records)\n",
    "\n",
    "---\n",
    "\n",
    "**Important Note**: For Round 1 submissions, you need to submit an ID, score, and rank for each individual ID in the `target_holdout.csv` file."
   ]
  },
  {
   "cell_type": "markdown",
   "id": "1181c2200130d120",
   "metadata": {
    "collapsed": false,
    "jupyter": {
     "outputs_hidden": false
    }
   },
   "source": [
    "# 2023 Humana Mays Healthcare Analytics Case Competition Code --\n",
    "### Import necessary libraries"
   ]
  },
  {
   "cell_type": "code",
   "execution_count": 4,
   "id": "a0f5f40f018ea388",
   "metadata": {
    "ExecuteTime": {
     "end_time": "2023-09-19T16:14:10.367834Z",
     "start_time": "2023-09-19T16:14:10.341566Z"
    },
    "collapsed": false,
    "jupyter": {
     "outputs_hidden": false
    }
   },
   "outputs": [],
   "source": [
    "# Import necessary libraries\n",
    "import pandas as pd\n",
    "from sklearn.ensemble import RandomForestClassifier\n",
    "from sklearn.metrics import accuracy_score\n",
    "from sklearn.model_selection import train_test_split"
   ]
  },
  {
   "cell_type": "code",
   "execution_count": 5,
   "id": "1f52bc858c51bfdf",
   "metadata": {
    "ExecuteTime": {
     "end_time": "2023-09-19T16:14:10.369378Z",
     "start_time": "2023-09-19T16:14:10.347106Z"
    },
    "collapsed": false,
    "jupyter": {
     "outputs_hidden": false
    }
   },
   "outputs": [],
   "source": [
    "# Function to load multiple datasets from a given path\n",
    "def load_data(base_path):\n",
    "    datasets = {}\n",
    "    # Loop through each dataset file and load it into a Pandas DataFrame\n",
    "    for filename in ['data_dictionary', 'target_holdout', 'target_train',\n",
    "                     'medclms_holdout', 'medclms_train', 'rxclms_holdout', 'rxclms_train',\n",
    "                     'race_cd_desc']:\n",
    "        datasets[filename] = pd.read_csv(f\"{base_path}/{filename}.csv\")\n",
    "    return datasets"
   ]
  },
  {
   "cell_type": "code",
   "execution_count": 6,
   "id": "c58b669328873637",
   "metadata": {
    "ExecuteTime": {
     "end_time": "2023-09-19T16:14:10.369574Z",
     "start_time": "2023-09-19T16:14:10.351061Z"
    },
    "collapsed": false,
    "jupyter": {
     "outputs_hidden": false
    }
   },
   "outputs": [],
   "source": [
    "# Step 1: Load Data\n",
    "# Define the path where the data files are stored \n",
    "base_path = \"/Users/brocktbennett/GitHub/Project Data/2023_TAMU_competition_data\""
   ]
  },
  {
   "cell_type": "code",
   "execution_count": 7,
   "id": "3f472601a55ce438",
   "metadata": {
    "ExecuteTime": {
     "end_time": "2023-09-19T16:14:59.578378Z",
     "start_time": "2023-09-19T16:14:58.923430Z"
    },
    "collapsed": false,
    "jupyter": {
     "outputs_hidden": false
    }
   },
   "outputs": [],
   "source": [
    "# Call function to load datasets into a dictionary \n",
    "datasets = load_data(base_path)"
   ]
  },
  {
   "cell_type": "markdown",
   "id": "4c173fb836e4f4b4",
   "metadata": {
    "collapsed": false,
    "jupyter": {
     "outputs_hidden": false
    }
   },
   "source": [
    "## Examine the loaded datasets to verify that they have been loaded accurately."
   ]
  },
  {
   "cell_type": "code",
   "execution_count": 10,
   "id": "4423714c06c3a9b4",
   "metadata": {
    "ExecuteTime": {
     "end_time": "2023-09-19T16:22:33.020826Z",
     "start_time": "2023-09-19T16:22:32.998481Z"
    },
    "collapsed": false,
    "jupyter": {
     "outputs_hidden": false
    }
   },
   "outputs": [
    {
     "name": "stdout",
     "output_type": "stream",
     "text": [
      "Dataset: data_dictionary\n",
      "Shape: (49, 3)\n",
      "First few rows:\n",
      "                field                                         definition  \\\n",
      "0                  id            Person Identifier - unique for a member   \n",
      "1  therapy_start_date   The date of the member's first fill of Tagrisso.   \n",
      "2    therapy_end_date  The date the member runs out of their supply o...   \n",
      "3      tgt_ade_dc_ind  An indicator for whether this person meets the...   \n",
      "4             race_cd                       a numeric indicator for race   \n",
      "\n",
      "       table  \n",
      "0  target_df  \n",
      "1  target_df  \n",
      "2  target_df  \n",
      "3  target_df  \n",
      "4  target_df  \n",
      "----------------------------------------\n",
      "Dataset: target_holdout\n",
      "Shape: (420, 8)\n",
      "First few rows:\n",
      "           id             therapy_id            therapy_start_date  race_cd  \\\n",
      "0  1018450235  1018450235-TAGRISSO-1  2022-05-23T00:00:00.000+0000      5.0   \n",
      "1  1032849118  1032849118-TAGRISSO-1  2020-01-22T00:00:00.000+0000      1.0   \n",
      "2  1044251683  1044251683-TAGRISSO-1  2020-09-25T00:00:00.000+0000      1.0   \n",
      "3  1086171816  1086171816-TAGRISSO-1  2020-06-24T00:00:00.000+0000      1.0   \n",
      "4  1093074743  1093074743-TAGRISSO-1  2020-03-09T00:00:00.000+0000      1.0   \n",
      "\n",
      "   est_age sex_cd  cms_disabled_ind  cms_low_income_ind  \n",
      "0     75.0      F               0.0                 0.0  \n",
      "1     91.0      F               0.0                 0.0  \n",
      "2     72.0      F               0.0                 1.0  \n",
      "3     67.0      F               0.0                 1.0  \n",
      "4     67.0      M               1.0                 0.0  \n",
      "----------------------------------------\n",
      "Dataset: target_train\n",
      "Shape: (1232, 10)\n",
      "First few rows:\n",
      "           id             therapy_id            therapy_start_date  \\\n",
      "0  1005597228  1005597228-TAGRISSO-1  2020-03-11T00:00:00.000+0000   \n",
      "1  1005964858  1005964858-TAGRISSO-1  2021-08-23T00:00:00.000+0000   \n",
      "2  1007548572  1007548572-TAGRISSO-1  2022-01-17T00:00:00.000+0000   \n",
      "3  1009508044  1009508044-TAGRISSO-1  2020-01-23T00:00:00.000+0000   \n",
      "4  1028064791  1028064791-TAGRISSO-1  2021-02-23T00:00:00.000+0000   \n",
      "\n",
      "  therapy_end_date  tgt_ade_dc_ind  race_cd  est_age sex_cd  cms_disabled_ind  \\\n",
      "0       2020-09-07               0      1.0      NaN    NaN               NaN   \n",
      "1       2021-09-22               1      1.0     86.0      M               0.0   \n",
      "2       2022-07-16               0      1.0     79.0      F               0.0   \n",
      "3       2020-07-21               0      1.0     70.0      F               1.0   \n",
      "4       2021-08-22               0      2.0     74.0      F               1.0   \n",
      "\n",
      "   cms_low_income_ind  \n",
      "0                 NaN  \n",
      "1                 0.0  \n",
      "2                 1.0  \n",
      "3                 1.0  \n",
      "4                 1.0  \n",
      "----------------------------------------\n",
      "Dataset: medclms_holdout\n",
      "Shape: (23232, 27)\n",
      "First few rows:\n",
      "              therapy_id   medclm_key  clm_unique_key primary_diag_cd  \\\n",
      "0  1057995894-TAGRISSO-1  37728229632    1.178230e+17             E43   \n",
      "1  1101829515-TAGRISSO-1  38488780655    1.464720e+17            R779   \n",
      "2  1062416207-TAGRISSO-1  39449274289    7.520310e+16             I10   \n",
      "3  1069511399-TAGRISSO-1  39711591440    4.507190e+17           C7951   \n",
      "4  1072992888-TAGRISSO-1  39337288280    2.365680e+17           R5383   \n",
      "\n",
      "                 visit_date diag_cd2 diag_cd3 diag_cd4 diag_cd5 diag_cd6  ...  \\\n",
      "0  2020-12-17T00:00:00.000Z     J189    C3492    C7931    I4820    F5000  ...   \n",
      "1  2021-04-29T00:00:00.000Z     D649     G629     R519      NaN      NaN  ...   \n",
      "2  2021-11-01T00:00:00.000Z     E559    G8929     E785    Z7689      Z23  ...   \n",
      "3  2021-12-10T00:00:00.000Z     C801      NaN      NaN      NaN      NaN  ...   \n",
      "4  2021-10-07T00:00:00.000Z    Z0000   Z79899   Z13220     R609      NaN  ...   \n",
      "\n",
      "   hedis_pot clm_type ade_diagnosis seizure_diagnosis pain_diagnosis  \\\n",
      "0  Inpatient      med             0                 0              0   \n",
      "1      Other      med             0                 0              0   \n",
      "2      Other      med             0                 0              0   \n",
      "3      Other      med             0                 0              0   \n",
      "4      Other      med             1                 0              0   \n",
      "\n",
      "  fatigue_diagnosis nausea_diagnosis hyperglycemia_diagnosis  \\\n",
      "0                 0                0                       0   \n",
      "1                 0                0                       0   \n",
      "2                 0                0                       0   \n",
      "3                 0                0                       0   \n",
      "4                 1                0                       0   \n",
      "\n",
      "  constipation_diagnosis  diarrhea_diagnosis  \n",
      "0                      0                   0  \n",
      "1                      0                   0  \n",
      "2                      0                   0  \n",
      "3                      0                   0  \n",
      "4                      0                   0  \n",
      "\n",
      "[5 rows x 27 columns]\n",
      "----------------------------------------\n",
      "Dataset: medclms_train\n",
      "Shape: (100159, 27)\n",
      "First few rows:\n",
      "              therapy_id   medclm_key      clm_unique_key primary_diag_cd  \\\n",
      "0  1066310426-TAGRISSO-1  35908472910  649143000473431803          I70292   \n",
      "1  1094522162-TAGRISSO-1  37189420103  934834000476811903           J9601   \n",
      "2  1104741185-TAGRISSO-1  37128499255  748244100476652103            E785   \n",
      "3  1012749208-TAGRISSO-1  36269844999  589034000474672103           C3492   \n",
      "4  1000110916-TAGRISSO-1  36448002258  663113000474981803           C3490   \n",
      "\n",
      "                 visit_date diag_cd2 diag_cd3 diag_cd4 diag_cd5 diag_cd6  ...  \\\n",
      "0  2019-09-10T00:00:00.000Z     I771     I739    R9431    Z7982   Z79899  ...   \n",
      "1  2020-08-21T00:00:00.000Z     J910      NaN      NaN      NaN      NaN  ...   \n",
      "2  2020-07-14T00:00:00.000Z      I10     J324      NaN      NaN      NaN  ...   \n",
      "3  2020-02-04T00:00:00.000Z   I825Z9  T83518A     N390     J942     J910  ...   \n",
      "4  2020-03-05T00:00:00.000Z      NaN      NaN      NaN      NaN      NaN  ...   \n",
      "\n",
      "    hedis_pot clm_type ade_diagnosis seizure_diagnosis pain_diagnosis  \\\n",
      "0       Other      med             0                 0              0   \n",
      "1       Other      med             0                 0              0   \n",
      "2       Other      med             0                 0              0   \n",
      "3       Other      med             0                 0              0   \n",
      "4  Outpatient      med             0                 0              0   \n",
      "\n",
      "  fatigue_diagnosis nausea_diagnosis hyperglycemia_diagnosis  \\\n",
      "0                 0                0                       0   \n",
      "1                 0                0                       0   \n",
      "2                 0                0                       0   \n",
      "3                 0                0                       0   \n",
      "4                 0                0                       0   \n",
      "\n",
      "  constipation_diagnosis  diarrhea_diagnosis  \n",
      "0                      0                   0  \n",
      "1                      0                   0  \n",
      "2                      0                   0  \n",
      "3                      0                   0  \n",
      "4                      0                   0  \n",
      "\n",
      "[5 rows x 27 columns]\n",
      "----------------------------------------\n",
      "Dataset: rxclms_holdout\n",
      "Shape: (6669, 24)\n",
      "First few rows:\n",
      "              therapy_id      document_key       ndc_id  \\\n",
      "0  1016317684-TAGRISSO-1  A195005006341001    228253950   \n",
      "1  1084085456-TAGRISSO-1  A195044963981001  29300024210   \n",
      "2  1016343065-TAGRISSO-1  A195078392391001  65862019899   \n",
      "3  1096559829-TAGRISSO-1  A195157798591001  50242006401   \n",
      "4  1016317684-TAGRISSO-1  A195223757081001  60505082901   \n",
      "\n",
      "                   service_date                  process_date  \\\n",
      "0  2019-04-10T00:00:00.000+0000  2019-04-11T00:00:00.000+0000   \n",
      "1  2019-04-14T00:00:00.000+0000  2019-04-15T00:00:00.000+0000   \n",
      "2  2019-04-17T00:00:00.000+0000  2019-04-18T00:00:00.000+0000   \n",
      "3  2019-04-25T00:00:00.000+0000  2019-04-26T00:00:00.000+0000   \n",
      "4  2019-05-02T00:00:00.000+0000  2019-05-03T00:00:00.000+0000   \n",
      "\n",
      "   pay_day_supply_cnt  rx_cost  tot_drug_cost_accum_amt reversal_ind  \\\n",
      "0                  30    13.70                  4725.09            N   \n",
      "1                  30     1.33                  1228.73            N   \n",
      "2                  90     5.36                     6.16            N   \n",
      "3                  30  9043.00                 27129.00            N   \n",
      "4                  30     6.10                  4738.79            N   \n",
      "\n",
      "  mail_order_ind  ...               hum_drug_class_desc strength_meas  \\\n",
      "0              N  ...      NEUROLOGY - PARKINSON AGENTS      MG-100MG   \n",
      "1              N  ...  CARDIOLOGY - HYPERTENSION AGENTS            MG   \n",
      "2              Y  ...                   ANTICONVULSANTS            MG   \n",
      "3              N  ...                      CHEMOTHERAPY            MG   \n",
      "4              N  ...              COUGH/ COLD/ ALLERGY       MCG/ACT   \n",
      "\n",
      "  metric_strength specialty_ind clm_type ddi_ind  anticoag_ind  \\\n",
      "0            25.0       NONSPCL       rx       0             0   \n",
      "1             5.0       NONSPCL       rx       0             0   \n",
      "2           100.0       NONSPCL       rx       0             0   \n",
      "3           150.0          SPCL       rx       0             0   \n",
      "4            50.0       NONSPCL       rx       0             0   \n",
      "\n",
      "  diarrhea_treat_ind nausea_treat_ind  seizure_treat_ind  \n",
      "0                  0                0                  0  \n",
      "1                  0                0                  0  \n",
      "2                  0                0                  0  \n",
      "3                  0                0                  0  \n",
      "4                  0                0                  0  \n",
      "\n",
      "[5 rows x 24 columns]\n",
      "----------------------------------------\n",
      "Dataset: rxclms_train\n",
      "Shape: (32133, 24)\n",
      "First few rows:\n",
      "              therapy_id      document_key       ndc_id  \\\n",
      "0  1009508044-TAGRISSO-1  A184611654291011    169266015   \n",
      "1  1023838279-TAGRISSO-1  A184877988141011  69097022416   \n",
      "2  1023838279-TAGRISSO-1  A185952462961011  60505257908   \n",
      "3  1023838279-TAGRISSO-1  A186219930881011  65862057290   \n",
      "4  1071647492-TAGRISSO-1  A194013465121011  16252060144   \n",
      "\n",
      "               service_date              process_date  pay_day_supply_cnt  \\\n",
      "0  2018-03-02T00:00:00.000Z  2019-12-04T00:00:00.000Z                  30   \n",
      "1  2018-03-28T00:00:00.000Z  2020-03-13T00:00:00.000Z                  28   \n",
      "2  2018-07-14T00:00:00.000Z  2020-03-13T00:00:00.000Z                  30   \n",
      "3  2018-08-09T00:00:00.000Z  2020-03-17T00:00:00.000Z                  30   \n",
      "4  2019-01-01T00:00:00.000Z  2020-03-03T00:00:00.000Z                  90   \n",
      "\n",
      "   rx_cost  tot_drug_cost_accum_amt reversal_ind mail_order_ind  ...  \\\n",
      "0   919.78                  2830.22            N              N  ...   \n",
      "1     5.00                  1138.66            N              N  ...   \n",
      "2     7.30                  2693.11            N              N  ...   \n",
      "3    12.20                  2718.31            N              N  ...   \n",
      "4     9.90                     0.00            N              Y  ...   \n",
      "\n",
      "                hum_drug_class_desc strength_meas metric_strength  \\\n",
      "0                          DIABETES       UNIT/ML           100.0   \n",
      "1                      OSTEOPOROSIS            MG            70.0   \n",
      "2                       CHOLESTEROL            MG            20.0   \n",
      "3  CARDIOLOGY - HYPERTENSION AGENTS            MG           160.0   \n",
      "4                      OSTEOPOROSIS            MG            70.0   \n",
      "\n",
      "  specialty_ind clm_type ddi_ind  anticoag_ind diarrhea_treat_ind  \\\n",
      "0       NONSPCL       rx       0             0                  0   \n",
      "1       NONSPCL       rx       0             0                  0   \n",
      "2       NONSPCL       rx       0             0                  0   \n",
      "3       NONSPCL       rx       0             0                  0   \n",
      "4       NONSPCL       rx       0             0                  0   \n",
      "\n",
      "  nausea_treat_ind  seizure_treat_ind  \n",
      "0                0                  0  \n",
      "1                0                  0  \n",
      "2                0                  0  \n",
      "3                0                  0  \n",
      "4                0                  0  \n",
      "\n",
      "[5 rows x 24 columns]\n",
      "----------------------------------------\n",
      "Dataset: race_cd_desc\n",
      "Shape: (7, 2)\n",
      "First few rows:\n",
      "   race_cd race_cd_desc\n",
      "0        0      unknown\n",
      "1        1        white\n",
      "2        2        black\n",
      "3        3        other\n",
      "4        4        asian\n",
      "----------------------------------------\n"
     ]
    }
   ],
   "source": [
    "# Examine the loaded datasets\n",
    "# Loop through each loaded dataset and print its head and shape \n",
    "for name, df in datasets.items(): \n",
    "    print(f\"Dataset: {name}\")\n",
    "    print(f\"Shape: {df.shape}\")\n",
    "    print(f\"First few rows:\\n{df.head()}\\n{'-'*40}\")"
   ]
  },
  {
   "cell_type": "code",
   "execution_count": 8,
   "id": "3ef4d97b220010e0",
   "metadata": {
    "ExecuteTime": {
     "end_time": "2023-09-19T16:20:54.326467Z",
     "start_time": "2023-09-19T16:20:54.312191Z"
    },
    "collapsed": false,
    "jupyter": {
     "outputs_hidden": false
    }
   },
   "outputs": [],
   "source": []
  },
  {
   "cell_type": "code",
   "execution_count": null,
   "id": "3a61eb18475eecd4",
   "metadata": {
    "collapsed": false,
    "jupyter": {
     "outputs_hidden": false
    }
   },
   "outputs": [],
   "source": []
  }
 ],
 "metadata": {
  "kernelspec": {
   "display_name": "Python 3 (ipykernel)",
   "language": "python",
   "name": "python3"
  },
  "language_info": {
   "codemirror_mode": {
    "name": "ipython",
    "version": 3
   },
   "file_extension": ".py",
   "mimetype": "text/x-python",
   "name": "python",
   "nbconvert_exporter": "python",
   "pygments_lexer": "ipython3",
   "version": "3.8.17"
  }
 },
 "nbformat": 4,
 "nbformat_minor": 5
}
