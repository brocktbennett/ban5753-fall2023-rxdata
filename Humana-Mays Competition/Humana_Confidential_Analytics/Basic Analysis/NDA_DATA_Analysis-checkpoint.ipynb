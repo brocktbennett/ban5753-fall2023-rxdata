{
 "cells": [
  {
   "cell_type": "markdown",
   "source": [
    "# 2023 Humana Mays Healthcare Analytics Case Competition\n",
    "## Problem Prompt\n",
    "**By: Dustin James Harper—Senior Data Scientist, Humana Pharmacy Analytics and Consulting**\n",
    "\n",
    "---\n",
    "\n",
    "### Introduction\n",
    "This Jupyter Notebook outlines the problem statement and available data for the 2023 Humana Mays Healthcare Analytics Case Competition. For additional information about registration, schedule, submission logistics, and the leaderboard, visit [Humana TAMU Analytics](https://mays.tamu.edu/humana-tamu-analytics/).\n",
    "\n",
    "---\n",
    "\n",
    "### Table of Contents\n",
    "1. [Motivation and Opportunity](#Motivation-and-Opportunity)\n",
    "2. [Predictive Modeling Target](#Predictive-Modeling-Target)\n",
    "    1. [Unsuccessful Therapy](#Unsuccessful-Therapy)\n",
    "    2. [All Other Therapies](#All-Other-Therapies)\n",
    "3. [Available Data](#Available-Data)\n",
    "    1. [File Descriptions](#File-Descriptions)\n",
    "\n",
    "---\n",
    "\n",
    "### 1. Motivation and Opportunity\n",
    "Cancer remains a leading cause of death in the U.S., despite significant advances in research and new therapies. One such medication, Osimertinib, has been effective but also presents challenges due to its side effects. About a quarter of Humana members taking Osimertinib discontinue their therapy within the first 6 months due to side effects. The aim is to leverage data and analytics to encourage medication adherence.\n",
    "\n",
    "---\n",
    "\n",
    "### 2. Predictive Modeling Target\n",
    "Your task is to build a predictive model that identifies patients who are likely to discontinue Osimertinib therapy due to adverse drug events (ADEs).\n",
    "\n",
    "#### 2.1 Unsuccessful Therapy\n",
    "- **`tgt_ade_dc_ind == 1`**: Therapy that ends before 180 days and has an ADE reported during the therapy.\n",
    "\n",
    "#### 2.2 All Other Therapies\n",
    "- **`tgt_ade_dc_ind == 0`**: Includes successful therapies, therapies with no ADEs, and those where members changed insurance plans or passed away before 180 days.\n",
    "\n",
    "---\n",
    "\n",
    "### 3. Available Data\n",
    "The data is organized based on a specific therapy with one member, a start date, and an end date. The datasets are separated into a training and holdout set.\n",
    "\n",
    "#### 3.1 File Descriptions\n",
    "- **Target**: `target_train.csv` (1232 records), `target_holdout.csv` (420 records)\n",
    "- **Medical Claims**: `medclms_train.csv` (100159 records), `medclms_holdout.csv` (23232 records)\n",
    "- **Pharmacy Claims**: `rxclms_train.csv` (32133 records), `rxclms_holdout.csv` (6670 records)\n",
    "- **Data Dictionary**: `data_dictionary.csv` (49 records)\n",
    "- **Race Code Descriptions**: `race_cd_desc.csv` (7 records)\n",
    "\n",
    "---\n",
    "\n",
    "**Important Note**: For Round 1 submissions, you need to submit an ID, score, and rank for each individual ID in the `target_holdout.csv` file.\n",
    "\n"
   ],
   "metadata": {
    "collapsed": false
   },
   "id": "413f24fc669f8fe2"
  },
  {
   "cell_type": "code",
   "execution_count": null,
   "id": "initial_id",
   "metadata": {
    "collapsed": true,
    "ExecuteTime": {
     "end_time": "2023-09-19T16:06:41.929294Z",
     "start_time": "2023-09-19T16:06:41.923651Z"
    }
   },
   "outputs": [],
   "source": []
  },
  {
   "cell_type": "code",
   "execution_count": null,
   "outputs": [],
   "source": [],
   "metadata": {
    "collapsed": false
   },
   "id": "1f52bc858c51bfdf"
  }
 ],
 "metadata": {
  "kernelspec": {
   "display_name": "Python 3",
   "language": "python",
   "name": "python3"
  },
  "language_info": {
   "codemirror_mode": {
    "name": "ipython",
    "version": 2
   },
   "file_extension": ".py",
   "mimetype": "text/x-python",
   "name": "python",
   "nbconvert_exporter": "python",
   "pygments_lexer": "ipython2",
   "version": "2.7.6"
  }
 },
 "nbformat": 4,
 "nbformat_minor": 5
}
